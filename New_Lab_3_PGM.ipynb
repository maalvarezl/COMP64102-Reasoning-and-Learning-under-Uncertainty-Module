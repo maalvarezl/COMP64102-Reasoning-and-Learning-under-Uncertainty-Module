{
  "nbformat": 4,
  "nbformat_minor": 0,
  "metadata": {
    "colab": {
      "provenance": []
    },
    "kernelspec": {
      "name": "python3",
      "display_name": "Python 3"
    },
    "language_info": {
      "name": "python"
    },
    "widgets": {
      "application/vnd.jupyter.widget-state+json": {
        "81c4c0a8ac63460f923c3b2b6a46e175": {
          "model_module": "@jupyter-widgets/controls",
          "model_name": "HBoxModel",
          "model_module_version": "1.5.0",
          "state": {
            "_dom_classes": [],
            "_model_module": "@jupyter-widgets/controls",
            "_model_module_version": "1.5.0",
            "_model_name": "HBoxModel",
            "_view_count": null,
            "_view_module": "@jupyter-widgets/controls",
            "_view_module_version": "1.5.0",
            "_view_name": "HBoxView",
            "box_style": "",
            "children": [
              "IPY_MODEL_f9062ac5b1654c8eb872f834c5080bda",
              "IPY_MODEL_779607a2a6c34092839187c2242daf5f",
              "IPY_MODEL_0e1564f613d7485da7131a69e84ff411"
            ],
            "layout": "IPY_MODEL_9e257c40d1114ccba67c2d7b9b865753"
          }
        },
        "f9062ac5b1654c8eb872f834c5080bda": {
          "model_module": "@jupyter-widgets/controls",
          "model_name": "HTMLModel",
          "model_module_version": "1.5.0",
          "state": {
            "_dom_classes": [],
            "_model_module": "@jupyter-widgets/controls",
            "_model_module_version": "1.5.0",
            "_model_name": "HTMLModel",
            "_view_count": null,
            "_view_module": "@jupyter-widgets/controls",
            "_view_module_version": "1.5.0",
            "_view_name": "HTMLView",
            "description": "",
            "description_tooltip": null,
            "layout": "IPY_MODEL_419cc41635594a21829c4287cdc913d9",
            "placeholder": "​",
            "style": "IPY_MODEL_92944dabea804262b899fdc25a2c08b4",
            "value": "Finding Elimination Order: : 100%"
          }
        },
        "779607a2a6c34092839187c2242daf5f": {
          "model_module": "@jupyter-widgets/controls",
          "model_name": "FloatProgressModel",
          "model_module_version": "1.5.0",
          "state": {
            "_dom_classes": [],
            "_model_module": "@jupyter-widgets/controls",
            "_model_module_version": "1.5.0",
            "_model_name": "FloatProgressModel",
            "_view_count": null,
            "_view_module": "@jupyter-widgets/controls",
            "_view_module_version": "1.5.0",
            "_view_name": "ProgressView",
            "bar_style": "success",
            "description": "",
            "description_tooltip": null,
            "layout": "IPY_MODEL_5102fcb59b014d888b053fa5a512aa94",
            "max": 1,
            "min": 0,
            "orientation": "horizontal",
            "style": "IPY_MODEL_8b3099c85eb54632b0555a384bb1ccc4",
            "value": 1
          }
        },
        "0e1564f613d7485da7131a69e84ff411": {
          "model_module": "@jupyter-widgets/controls",
          "model_name": "HTMLModel",
          "model_module_version": "1.5.0",
          "state": {
            "_dom_classes": [],
            "_model_module": "@jupyter-widgets/controls",
            "_model_module_version": "1.5.0",
            "_model_name": "HTMLModel",
            "_view_count": null,
            "_view_module": "@jupyter-widgets/controls",
            "_view_module_version": "1.5.0",
            "_view_name": "HTMLView",
            "description": "",
            "description_tooltip": null,
            "layout": "IPY_MODEL_8c850af5dbc64ba2b80003750c4a1afc",
            "placeholder": "​",
            "style": "IPY_MODEL_c1899f4d4d874166804b98f6f09965d7",
            "value": " 1/1 [00:00&lt;00:00, 24.33it/s]"
          }
        },
        "9e257c40d1114ccba67c2d7b9b865753": {
          "model_module": "@jupyter-widgets/base",
          "model_name": "LayoutModel",
          "model_module_version": "1.2.0",
          "state": {
            "_model_module": "@jupyter-widgets/base",
            "_model_module_version": "1.2.0",
            "_model_name": "LayoutModel",
            "_view_count": null,
            "_view_module": "@jupyter-widgets/base",
            "_view_module_version": "1.2.0",
            "_view_name": "LayoutView",
            "align_content": null,
            "align_items": null,
            "align_self": null,
            "border": null,
            "bottom": null,
            "display": null,
            "flex": null,
            "flex_flow": null,
            "grid_area": null,
            "grid_auto_columns": null,
            "grid_auto_flow": null,
            "grid_auto_rows": null,
            "grid_column": null,
            "grid_gap": null,
            "grid_row": null,
            "grid_template_areas": null,
            "grid_template_columns": null,
            "grid_template_rows": null,
            "height": null,
            "justify_content": null,
            "justify_items": null,
            "left": null,
            "margin": null,
            "max_height": null,
            "max_width": null,
            "min_height": null,
            "min_width": null,
            "object_fit": null,
            "object_position": null,
            "order": null,
            "overflow": null,
            "overflow_x": null,
            "overflow_y": null,
            "padding": null,
            "right": null,
            "top": null,
            "visibility": null,
            "width": null
          }
        },
        "419cc41635594a21829c4287cdc913d9": {
          "model_module": "@jupyter-widgets/base",
          "model_name": "LayoutModel",
          "model_module_version": "1.2.0",
          "state": {
            "_model_module": "@jupyter-widgets/base",
            "_model_module_version": "1.2.0",
            "_model_name": "LayoutModel",
            "_view_count": null,
            "_view_module": "@jupyter-widgets/base",
            "_view_module_version": "1.2.0",
            "_view_name": "LayoutView",
            "align_content": null,
            "align_items": null,
            "align_self": null,
            "border": null,
            "bottom": null,
            "display": null,
            "flex": null,
            "flex_flow": null,
            "grid_area": null,
            "grid_auto_columns": null,
            "grid_auto_flow": null,
            "grid_auto_rows": null,
            "grid_column": null,
            "grid_gap": null,
            "grid_row": null,
            "grid_template_areas": null,
            "grid_template_columns": null,
            "grid_template_rows": null,
            "height": null,
            "justify_content": null,
            "justify_items": null,
            "left": null,
            "margin": null,
            "max_height": null,
            "max_width": null,
            "min_height": null,
            "min_width": null,
            "object_fit": null,
            "object_position": null,
            "order": null,
            "overflow": null,
            "overflow_x": null,
            "overflow_y": null,
            "padding": null,
            "right": null,
            "top": null,
            "visibility": null,
            "width": null
          }
        },
        "92944dabea804262b899fdc25a2c08b4": {
          "model_module": "@jupyter-widgets/controls",
          "model_name": "DescriptionStyleModel",
          "model_module_version": "1.5.0",
          "state": {
            "_model_module": "@jupyter-widgets/controls",
            "_model_module_version": "1.5.0",
            "_model_name": "DescriptionStyleModel",
            "_view_count": null,
            "_view_module": "@jupyter-widgets/base",
            "_view_module_version": "1.2.0",
            "_view_name": "StyleView",
            "description_width": ""
          }
        },
        "5102fcb59b014d888b053fa5a512aa94": {
          "model_module": "@jupyter-widgets/base",
          "model_name": "LayoutModel",
          "model_module_version": "1.2.0",
          "state": {
            "_model_module": "@jupyter-widgets/base",
            "_model_module_version": "1.2.0",
            "_model_name": "LayoutModel",
            "_view_count": null,
            "_view_module": "@jupyter-widgets/base",
            "_view_module_version": "1.2.0",
            "_view_name": "LayoutView",
            "align_content": null,
            "align_items": null,
            "align_self": null,
            "border": null,
            "bottom": null,
            "display": null,
            "flex": null,
            "flex_flow": null,
            "grid_area": null,
            "grid_auto_columns": null,
            "grid_auto_flow": null,
            "grid_auto_rows": null,
            "grid_column": null,
            "grid_gap": null,
            "grid_row": null,
            "grid_template_areas": null,
            "grid_template_columns": null,
            "grid_template_rows": null,
            "height": null,
            "justify_content": null,
            "justify_items": null,
            "left": null,
            "margin": null,
            "max_height": null,
            "max_width": null,
            "min_height": null,
            "min_width": null,
            "object_fit": null,
            "object_position": null,
            "order": null,
            "overflow": null,
            "overflow_x": null,
            "overflow_y": null,
            "padding": null,
            "right": null,
            "top": null,
            "visibility": null,
            "width": null
          }
        },
        "8b3099c85eb54632b0555a384bb1ccc4": {
          "model_module": "@jupyter-widgets/controls",
          "model_name": "ProgressStyleModel",
          "model_module_version": "1.5.0",
          "state": {
            "_model_module": "@jupyter-widgets/controls",
            "_model_module_version": "1.5.0",
            "_model_name": "ProgressStyleModel",
            "_view_count": null,
            "_view_module": "@jupyter-widgets/base",
            "_view_module_version": "1.2.0",
            "_view_name": "StyleView",
            "bar_color": null,
            "description_width": ""
          }
        },
        "8c850af5dbc64ba2b80003750c4a1afc": {
          "model_module": "@jupyter-widgets/base",
          "model_name": "LayoutModel",
          "model_module_version": "1.2.0",
          "state": {
            "_model_module": "@jupyter-widgets/base",
            "_model_module_version": "1.2.0",
            "_model_name": "LayoutModel",
            "_view_count": null,
            "_view_module": "@jupyter-widgets/base",
            "_view_module_version": "1.2.0",
            "_view_name": "LayoutView",
            "align_content": null,
            "align_items": null,
            "align_self": null,
            "border": null,
            "bottom": null,
            "display": null,
            "flex": null,
            "flex_flow": null,
            "grid_area": null,
            "grid_auto_columns": null,
            "grid_auto_flow": null,
            "grid_auto_rows": null,
            "grid_column": null,
            "grid_gap": null,
            "grid_row": null,
            "grid_template_areas": null,
            "grid_template_columns": null,
            "grid_template_rows": null,
            "height": null,
            "justify_content": null,
            "justify_items": null,
            "left": null,
            "margin": null,
            "max_height": null,
            "max_width": null,
            "min_height": null,
            "min_width": null,
            "object_fit": null,
            "object_position": null,
            "order": null,
            "overflow": null,
            "overflow_x": null,
            "overflow_y": null,
            "padding": null,
            "right": null,
            "top": null,
            "visibility": null,
            "width": null
          }
        },
        "c1899f4d4d874166804b98f6f09965d7": {
          "model_module": "@jupyter-widgets/controls",
          "model_name": "DescriptionStyleModel",
          "model_module_version": "1.5.0",
          "state": {
            "_model_module": "@jupyter-widgets/controls",
            "_model_module_version": "1.5.0",
            "_model_name": "DescriptionStyleModel",
            "_view_count": null,
            "_view_module": "@jupyter-widgets/base",
            "_view_module_version": "1.2.0",
            "_view_name": "StyleView",
            "description_width": ""
          }
        },
        "a442f50025f644f9beb754733b78e05e": {
          "model_module": "@jupyter-widgets/controls",
          "model_name": "HBoxModel",
          "model_module_version": "1.5.0",
          "state": {
            "_dom_classes": [],
            "_model_module": "@jupyter-widgets/controls",
            "_model_module_version": "1.5.0",
            "_model_name": "HBoxModel",
            "_view_count": null,
            "_view_module": "@jupyter-widgets/controls",
            "_view_module_version": "1.5.0",
            "_view_name": "HBoxView",
            "box_style": "",
            "children": [
              "IPY_MODEL_ebc7916c00c2413cad2b9d9598b43a8f",
              "IPY_MODEL_67af91260963446984e34dd5f5c94c22",
              "IPY_MODEL_98329d1d9154471aa112efdfb7d0450c"
            ],
            "layout": "IPY_MODEL_cc4cf11564264e3486805c0b2faf7ac3"
          }
        },
        "ebc7916c00c2413cad2b9d9598b43a8f": {
          "model_module": "@jupyter-widgets/controls",
          "model_name": "HTMLModel",
          "model_module_version": "1.5.0",
          "state": {
            "_dom_classes": [],
            "_model_module": "@jupyter-widgets/controls",
            "_model_module_version": "1.5.0",
            "_model_name": "HTMLModel",
            "_view_count": null,
            "_view_module": "@jupyter-widgets/controls",
            "_view_module_version": "1.5.0",
            "_view_name": "HTMLView",
            "description": "",
            "description_tooltip": null,
            "layout": "IPY_MODEL_085126a882e84e3ab3cbc34326ced965",
            "placeholder": "​",
            "style": "IPY_MODEL_dea7c890c5024cbb991b067be882a2a6",
            "value": "Eliminating: Intel: 100%"
          }
        },
        "67af91260963446984e34dd5f5c94c22": {
          "model_module": "@jupyter-widgets/controls",
          "model_name": "FloatProgressModel",
          "model_module_version": "1.5.0",
          "state": {
            "_dom_classes": [],
            "_model_module": "@jupyter-widgets/controls",
            "_model_module_version": "1.5.0",
            "_model_name": "FloatProgressModel",
            "_view_count": null,
            "_view_module": "@jupyter-widgets/controls",
            "_view_module_version": "1.5.0",
            "_view_name": "ProgressView",
            "bar_style": "success",
            "description": "",
            "description_tooltip": null,
            "layout": "IPY_MODEL_7f688c72013b41dfa7c7ab53c4357769",
            "max": 1,
            "min": 0,
            "orientation": "horizontal",
            "style": "IPY_MODEL_3dc43ee1c48d46bba5c8942199bb41f6",
            "value": 1
          }
        },
        "98329d1d9154471aa112efdfb7d0450c": {
          "model_module": "@jupyter-widgets/controls",
          "model_name": "HTMLModel",
          "model_module_version": "1.5.0",
          "state": {
            "_dom_classes": [],
            "_model_module": "@jupyter-widgets/controls",
            "_model_module_version": "1.5.0",
            "_model_name": "HTMLModel",
            "_view_count": null,
            "_view_module": "@jupyter-widgets/controls",
            "_view_module_version": "1.5.0",
            "_view_name": "HTMLView",
            "description": "",
            "description_tooltip": null,
            "layout": "IPY_MODEL_54f99480c2f146ba8f3a976ed459a1cb",
            "placeholder": "​",
            "style": "IPY_MODEL_026c1c73e5b04a53aa1b371a7b510588",
            "value": " 1/1 [00:00&lt;00:00, 33.35it/s]"
          }
        },
        "cc4cf11564264e3486805c0b2faf7ac3": {
          "model_module": "@jupyter-widgets/base",
          "model_name": "LayoutModel",
          "model_module_version": "1.2.0",
          "state": {
            "_model_module": "@jupyter-widgets/base",
            "_model_module_version": "1.2.0",
            "_model_name": "LayoutModel",
            "_view_count": null,
            "_view_module": "@jupyter-widgets/base",
            "_view_module_version": "1.2.0",
            "_view_name": "LayoutView",
            "align_content": null,
            "align_items": null,
            "align_self": null,
            "border": null,
            "bottom": null,
            "display": null,
            "flex": null,
            "flex_flow": null,
            "grid_area": null,
            "grid_auto_columns": null,
            "grid_auto_flow": null,
            "grid_auto_rows": null,
            "grid_column": null,
            "grid_gap": null,
            "grid_row": null,
            "grid_template_areas": null,
            "grid_template_columns": null,
            "grid_template_rows": null,
            "height": null,
            "justify_content": null,
            "justify_items": null,
            "left": null,
            "margin": null,
            "max_height": null,
            "max_width": null,
            "min_height": null,
            "min_width": null,
            "object_fit": null,
            "object_position": null,
            "order": null,
            "overflow": null,
            "overflow_x": null,
            "overflow_y": null,
            "padding": null,
            "right": null,
            "top": null,
            "visibility": null,
            "width": null
          }
        },
        "085126a882e84e3ab3cbc34326ced965": {
          "model_module": "@jupyter-widgets/base",
          "model_name": "LayoutModel",
          "model_module_version": "1.2.0",
          "state": {
            "_model_module": "@jupyter-widgets/base",
            "_model_module_version": "1.2.0",
            "_model_name": "LayoutModel",
            "_view_count": null,
            "_view_module": "@jupyter-widgets/base",
            "_view_module_version": "1.2.0",
            "_view_name": "LayoutView",
            "align_content": null,
            "align_items": null,
            "align_self": null,
            "border": null,
            "bottom": null,
            "display": null,
            "flex": null,
            "flex_flow": null,
            "grid_area": null,
            "grid_auto_columns": null,
            "grid_auto_flow": null,
            "grid_auto_rows": null,
            "grid_column": null,
            "grid_gap": null,
            "grid_row": null,
            "grid_template_areas": null,
            "grid_template_columns": null,
            "grid_template_rows": null,
            "height": null,
            "justify_content": null,
            "justify_items": null,
            "left": null,
            "margin": null,
            "max_height": null,
            "max_width": null,
            "min_height": null,
            "min_width": null,
            "object_fit": null,
            "object_position": null,
            "order": null,
            "overflow": null,
            "overflow_x": null,
            "overflow_y": null,
            "padding": null,
            "right": null,
            "top": null,
            "visibility": null,
            "width": null
          }
        },
        "dea7c890c5024cbb991b067be882a2a6": {
          "model_module": "@jupyter-widgets/controls",
          "model_name": "DescriptionStyleModel",
          "model_module_version": "1.5.0",
          "state": {
            "_model_module": "@jupyter-widgets/controls",
            "_model_module_version": "1.5.0",
            "_model_name": "DescriptionStyleModel",
            "_view_count": null,
            "_view_module": "@jupyter-widgets/base",
            "_view_module_version": "1.2.0",
            "_view_name": "StyleView",
            "description_width": ""
          }
        },
        "7f688c72013b41dfa7c7ab53c4357769": {
          "model_module": "@jupyter-widgets/base",
          "model_name": "LayoutModel",
          "model_module_version": "1.2.0",
          "state": {
            "_model_module": "@jupyter-widgets/base",
            "_model_module_version": "1.2.0",
            "_model_name": "LayoutModel",
            "_view_count": null,
            "_view_module": "@jupyter-widgets/base",
            "_view_module_version": "1.2.0",
            "_view_name": "LayoutView",
            "align_content": null,
            "align_items": null,
            "align_self": null,
            "border": null,
            "bottom": null,
            "display": null,
            "flex": null,
            "flex_flow": null,
            "grid_area": null,
            "grid_auto_columns": null,
            "grid_auto_flow": null,
            "grid_auto_rows": null,
            "grid_column": null,
            "grid_gap": null,
            "grid_row": null,
            "grid_template_areas": null,
            "grid_template_columns": null,
            "grid_template_rows": null,
            "height": null,
            "justify_content": null,
            "justify_items": null,
            "left": null,
            "margin": null,
            "max_height": null,
            "max_width": null,
            "min_height": null,
            "min_width": null,
            "object_fit": null,
            "object_position": null,
            "order": null,
            "overflow": null,
            "overflow_x": null,
            "overflow_y": null,
            "padding": null,
            "right": null,
            "top": null,
            "visibility": null,
            "width": null
          }
        },
        "3dc43ee1c48d46bba5c8942199bb41f6": {
          "model_module": "@jupyter-widgets/controls",
          "model_name": "ProgressStyleModel",
          "model_module_version": "1.5.0",
          "state": {
            "_model_module": "@jupyter-widgets/controls",
            "_model_module_version": "1.5.0",
            "_model_name": "ProgressStyleModel",
            "_view_count": null,
            "_view_module": "@jupyter-widgets/base",
            "_view_module_version": "1.2.0",
            "_view_name": "StyleView",
            "bar_color": null,
            "description_width": ""
          }
        },
        "54f99480c2f146ba8f3a976ed459a1cb": {
          "model_module": "@jupyter-widgets/base",
          "model_name": "LayoutModel",
          "model_module_version": "1.2.0",
          "state": {
            "_model_module": "@jupyter-widgets/base",
            "_model_module_version": "1.2.0",
            "_model_name": "LayoutModel",
            "_view_count": null,
            "_view_module": "@jupyter-widgets/base",
            "_view_module_version": "1.2.0",
            "_view_name": "LayoutView",
            "align_content": null,
            "align_items": null,
            "align_self": null,
            "border": null,
            "bottom": null,
            "display": null,
            "flex": null,
            "flex_flow": null,
            "grid_area": null,
            "grid_auto_columns": null,
            "grid_auto_flow": null,
            "grid_auto_rows": null,
            "grid_column": null,
            "grid_gap": null,
            "grid_row": null,
            "grid_template_areas": null,
            "grid_template_columns": null,
            "grid_template_rows": null,
            "height": null,
            "justify_content": null,
            "justify_items": null,
            "left": null,
            "margin": null,
            "max_height": null,
            "max_width": null,
            "min_height": null,
            "min_width": null,
            "object_fit": null,
            "object_position": null,
            "order": null,
            "overflow": null,
            "overflow_x": null,
            "overflow_y": null,
            "padding": null,
            "right": null,
            "top": null,
            "visibility": null,
            "width": null
          }
        },
        "026c1c73e5b04a53aa1b371a7b510588": {
          "model_module": "@jupyter-widgets/controls",
          "model_name": "DescriptionStyleModel",
          "model_module_version": "1.5.0",
          "state": {
            "_model_module": "@jupyter-widgets/controls",
            "_model_module_version": "1.5.0",
            "_model_name": "DescriptionStyleModel",
            "_view_count": null,
            "_view_module": "@jupyter-widgets/base",
            "_view_module_version": "1.2.0",
            "_view_name": "StyleView",
            "description_width": ""
          }
        },
        "8229807121f74eee9abbc3a43d336773": {
          "model_module": "@jupyter-widgets/controls",
          "model_name": "HBoxModel",
          "model_module_version": "1.5.0",
          "state": {
            "_dom_classes": [],
            "_model_module": "@jupyter-widgets/controls",
            "_model_module_version": "1.5.0",
            "_model_name": "HBoxModel",
            "_view_count": null,
            "_view_module": "@jupyter-widgets/controls",
            "_view_module_version": "1.5.0",
            "_view_name": "HBoxView",
            "box_style": "",
            "children": [
              "IPY_MODEL_d9595025951846dfae9f6a0c9035ad43",
              "IPY_MODEL_c031cacd37ee49cfbc8a12fc8356a6d8",
              "IPY_MODEL_ac9b242bb4d743678a341556ee3e7711"
            ],
            "layout": "IPY_MODEL_f6297384cf2c4d1c82f5956f7147a141"
          }
        },
        "d9595025951846dfae9f6a0c9035ad43": {
          "model_module": "@jupyter-widgets/controls",
          "model_name": "HTMLModel",
          "model_module_version": "1.5.0",
          "state": {
            "_dom_classes": [],
            "_model_module": "@jupyter-widgets/controls",
            "_model_module_version": "1.5.0",
            "_model_name": "HTMLModel",
            "_view_count": null,
            "_view_module": "@jupyter-widgets/controls",
            "_view_module_version": "1.5.0",
            "_view_name": "HTMLView",
            "description": "",
            "description_tooltip": null,
            "layout": "IPY_MODEL_edab251243ff48dfa517549502cd7f73",
            "placeholder": "​",
            "style": "IPY_MODEL_844fbfa979cd48609a32c2b98ad0c51d",
            "value": "Finding Elimination Order: : 100%"
          }
        },
        "c031cacd37ee49cfbc8a12fc8356a6d8": {
          "model_module": "@jupyter-widgets/controls",
          "model_name": "FloatProgressModel",
          "model_module_version": "1.5.0",
          "state": {
            "_dom_classes": [],
            "_model_module": "@jupyter-widgets/controls",
            "_model_module_version": "1.5.0",
            "_model_name": "FloatProgressModel",
            "_view_count": null,
            "_view_module": "@jupyter-widgets/controls",
            "_view_module_version": "1.5.0",
            "_view_name": "ProgressView",
            "bar_style": "success",
            "description": "",
            "description_tooltip": null,
            "layout": "IPY_MODEL_06864ec8b07e44208ce99f26750c0050",
            "max": 1,
            "min": 0,
            "orientation": "horizontal",
            "style": "IPY_MODEL_d012a48a1fd543efb06c217b5c5735a0",
            "value": 1
          }
        },
        "ac9b242bb4d743678a341556ee3e7711": {
          "model_module": "@jupyter-widgets/controls",
          "model_name": "HTMLModel",
          "model_module_version": "1.5.0",
          "state": {
            "_dom_classes": [],
            "_model_module": "@jupyter-widgets/controls",
            "_model_module_version": "1.5.0",
            "_model_name": "HTMLModel",
            "_view_count": null,
            "_view_module": "@jupyter-widgets/controls",
            "_view_module_version": "1.5.0",
            "_view_name": "HTMLView",
            "description": "",
            "description_tooltip": null,
            "layout": "IPY_MODEL_ffab8bf50c6d4765be9e2a424164f1c2",
            "placeholder": "​",
            "style": "IPY_MODEL_346bbad9e4814b338d45ea5b580ae483",
            "value": " 1/1 [00:00&lt;00:00,  1.69it/s]"
          }
        },
        "f6297384cf2c4d1c82f5956f7147a141": {
          "model_module": "@jupyter-widgets/base",
          "model_name": "LayoutModel",
          "model_module_version": "1.2.0",
          "state": {
            "_model_module": "@jupyter-widgets/base",
            "_model_module_version": "1.2.0",
            "_model_name": "LayoutModel",
            "_view_count": null,
            "_view_module": "@jupyter-widgets/base",
            "_view_module_version": "1.2.0",
            "_view_name": "LayoutView",
            "align_content": null,
            "align_items": null,
            "align_self": null,
            "border": null,
            "bottom": null,
            "display": null,
            "flex": null,
            "flex_flow": null,
            "grid_area": null,
            "grid_auto_columns": null,
            "grid_auto_flow": null,
            "grid_auto_rows": null,
            "grid_column": null,
            "grid_gap": null,
            "grid_row": null,
            "grid_template_areas": null,
            "grid_template_columns": null,
            "grid_template_rows": null,
            "height": null,
            "justify_content": null,
            "justify_items": null,
            "left": null,
            "margin": null,
            "max_height": null,
            "max_width": null,
            "min_height": null,
            "min_width": null,
            "object_fit": null,
            "object_position": null,
            "order": null,
            "overflow": null,
            "overflow_x": null,
            "overflow_y": null,
            "padding": null,
            "right": null,
            "top": null,
            "visibility": null,
            "width": null
          }
        },
        "edab251243ff48dfa517549502cd7f73": {
          "model_module": "@jupyter-widgets/base",
          "model_name": "LayoutModel",
          "model_module_version": "1.2.0",
          "state": {
            "_model_module": "@jupyter-widgets/base",
            "_model_module_version": "1.2.0",
            "_model_name": "LayoutModel",
            "_view_count": null,
            "_view_module": "@jupyter-widgets/base",
            "_view_module_version": "1.2.0",
            "_view_name": "LayoutView",
            "align_content": null,
            "align_items": null,
            "align_self": null,
            "border": null,
            "bottom": null,
            "display": null,
            "flex": null,
            "flex_flow": null,
            "grid_area": null,
            "grid_auto_columns": null,
            "grid_auto_flow": null,
            "grid_auto_rows": null,
            "grid_column": null,
            "grid_gap": null,
            "grid_row": null,
            "grid_template_areas": null,
            "grid_template_columns": null,
            "grid_template_rows": null,
            "height": null,
            "justify_content": null,
            "justify_items": null,
            "left": null,
            "margin": null,
            "max_height": null,
            "max_width": null,
            "min_height": null,
            "min_width": null,
            "object_fit": null,
            "object_position": null,
            "order": null,
            "overflow": null,
            "overflow_x": null,
            "overflow_y": null,
            "padding": null,
            "right": null,
            "top": null,
            "visibility": null,
            "width": null
          }
        },
        "844fbfa979cd48609a32c2b98ad0c51d": {
          "model_module": "@jupyter-widgets/controls",
          "model_name": "DescriptionStyleModel",
          "model_module_version": "1.5.0",
          "state": {
            "_model_module": "@jupyter-widgets/controls",
            "_model_module_version": "1.5.0",
            "_model_name": "DescriptionStyleModel",
            "_view_count": null,
            "_view_module": "@jupyter-widgets/base",
            "_view_module_version": "1.2.0",
            "_view_name": "StyleView",
            "description_width": ""
          }
        },
        "06864ec8b07e44208ce99f26750c0050": {
          "model_module": "@jupyter-widgets/base",
          "model_name": "LayoutModel",
          "model_module_version": "1.2.0",
          "state": {
            "_model_module": "@jupyter-widgets/base",
            "_model_module_version": "1.2.0",
            "_model_name": "LayoutModel",
            "_view_count": null,
            "_view_module": "@jupyter-widgets/base",
            "_view_module_version": "1.2.0",
            "_view_name": "LayoutView",
            "align_content": null,
            "align_items": null,
            "align_self": null,
            "border": null,
            "bottom": null,
            "display": null,
            "flex": null,
            "flex_flow": null,
            "grid_area": null,
            "grid_auto_columns": null,
            "grid_auto_flow": null,
            "grid_auto_rows": null,
            "grid_column": null,
            "grid_gap": null,
            "grid_row": null,
            "grid_template_areas": null,
            "grid_template_columns": null,
            "grid_template_rows": null,
            "height": null,
            "justify_content": null,
            "justify_items": null,
            "left": null,
            "margin": null,
            "max_height": null,
            "max_width": null,
            "min_height": null,
            "min_width": null,
            "object_fit": null,
            "object_position": null,
            "order": null,
            "overflow": null,
            "overflow_x": null,
            "overflow_y": null,
            "padding": null,
            "right": null,
            "top": null,
            "visibility": null,
            "width": null
          }
        },
        "d012a48a1fd543efb06c217b5c5735a0": {
          "model_module": "@jupyter-widgets/controls",
          "model_name": "ProgressStyleModel",
          "model_module_version": "1.5.0",
          "state": {
            "_model_module": "@jupyter-widgets/controls",
            "_model_module_version": "1.5.0",
            "_model_name": "ProgressStyleModel",
            "_view_count": null,
            "_view_module": "@jupyter-widgets/base",
            "_view_module_version": "1.2.0",
            "_view_name": "StyleView",
            "bar_color": null,
            "description_width": ""
          }
        },
        "ffab8bf50c6d4765be9e2a424164f1c2": {
          "model_module": "@jupyter-widgets/base",
          "model_name": "LayoutModel",
          "model_module_version": "1.2.0",
          "state": {
            "_model_module": "@jupyter-widgets/base",
            "_model_module_version": "1.2.0",
            "_model_name": "LayoutModel",
            "_view_count": null,
            "_view_module": "@jupyter-widgets/base",
            "_view_module_version": "1.2.0",
            "_view_name": "LayoutView",
            "align_content": null,
            "align_items": null,
            "align_self": null,
            "border": null,
            "bottom": null,
            "display": null,
            "flex": null,
            "flex_flow": null,
            "grid_area": null,
            "grid_auto_columns": null,
            "grid_auto_flow": null,
            "grid_auto_rows": null,
            "grid_column": null,
            "grid_gap": null,
            "grid_row": null,
            "grid_template_areas": null,
            "grid_template_columns": null,
            "grid_template_rows": null,
            "height": null,
            "justify_content": null,
            "justify_items": null,
            "left": null,
            "margin": null,
            "max_height": null,
            "max_width": null,
            "min_height": null,
            "min_width": null,
            "object_fit": null,
            "object_position": null,
            "order": null,
            "overflow": null,
            "overflow_x": null,
            "overflow_y": null,
            "padding": null,
            "right": null,
            "top": null,
            "visibility": null,
            "width": null
          }
        },
        "346bbad9e4814b338d45ea5b580ae483": {
          "model_module": "@jupyter-widgets/controls",
          "model_name": "DescriptionStyleModel",
          "model_module_version": "1.5.0",
          "state": {
            "_model_module": "@jupyter-widgets/controls",
            "_model_module_version": "1.5.0",
            "_model_name": "DescriptionStyleModel",
            "_view_count": null,
            "_view_module": "@jupyter-widgets/base",
            "_view_module_version": "1.2.0",
            "_view_name": "StyleView",
            "description_width": ""
          }
        },
        "a3d3b6f8e8ab4a0683dc18ee951d5c86": {
          "model_module": "@jupyter-widgets/controls",
          "model_name": "HBoxModel",
          "model_module_version": "1.5.0",
          "state": {
            "_dom_classes": [],
            "_model_module": "@jupyter-widgets/controls",
            "_model_module_version": "1.5.0",
            "_model_name": "HBoxModel",
            "_view_count": null,
            "_view_module": "@jupyter-widgets/controls",
            "_view_module_version": "1.5.0",
            "_view_name": "HBoxView",
            "box_style": "",
            "children": [
              "IPY_MODEL_69eb39c744704150bd1f50a2877566e0",
              "IPY_MODEL_2ade9e28ec6543d880954e5a82da40f7",
              "IPY_MODEL_7a21f28e223641d58cf8378b0655c11f"
            ],
            "layout": "IPY_MODEL_48e59bcddc8042b986c163dfd4c8501c"
          }
        },
        "69eb39c744704150bd1f50a2877566e0": {
          "model_module": "@jupyter-widgets/controls",
          "model_name": "HTMLModel",
          "model_module_version": "1.5.0",
          "state": {
            "_dom_classes": [],
            "_model_module": "@jupyter-widgets/controls",
            "_model_module_version": "1.5.0",
            "_model_name": "HTMLModel",
            "_view_count": null,
            "_view_module": "@jupyter-widgets/controls",
            "_view_module_version": "1.5.0",
            "_view_name": "HTMLView",
            "description": "",
            "description_tooltip": null,
            "layout": "IPY_MODEL_0d32e42db3904a6eb7d0185f81e7a1ef",
            "placeholder": "​",
            "style": "IPY_MODEL_07470224fabc42b3ac3978a498bba65f",
            "value": "Eliminating: Diff: 100%"
          }
        },
        "2ade9e28ec6543d880954e5a82da40f7": {
          "model_module": "@jupyter-widgets/controls",
          "model_name": "FloatProgressModel",
          "model_module_version": "1.5.0",
          "state": {
            "_dom_classes": [],
            "_model_module": "@jupyter-widgets/controls",
            "_model_module_version": "1.5.0",
            "_model_name": "FloatProgressModel",
            "_view_count": null,
            "_view_module": "@jupyter-widgets/controls",
            "_view_module_version": "1.5.0",
            "_view_name": "ProgressView",
            "bar_style": "success",
            "description": "",
            "description_tooltip": null,
            "layout": "IPY_MODEL_1bee82ba8eb9484e9d92797af14fa1af",
            "max": 1,
            "min": 0,
            "orientation": "horizontal",
            "style": "IPY_MODEL_1fdb2f7ad28c4afab2fb8a6e3b84deaa",
            "value": 1
          }
        },
        "7a21f28e223641d58cf8378b0655c11f": {
          "model_module": "@jupyter-widgets/controls",
          "model_name": "HTMLModel",
          "model_module_version": "1.5.0",
          "state": {
            "_dom_classes": [],
            "_model_module": "@jupyter-widgets/controls",
            "_model_module_version": "1.5.0",
            "_model_name": "HTMLModel",
            "_view_count": null,
            "_view_module": "@jupyter-widgets/controls",
            "_view_module_version": "1.5.0",
            "_view_name": "HTMLView",
            "description": "",
            "description_tooltip": null,
            "layout": "IPY_MODEL_90837aece4e344fabdb996cf1f01fd3a",
            "placeholder": "​",
            "style": "IPY_MODEL_d64b3248defa4700b90235c2ea3ea550",
            "value": " 1/1 [00:00&lt;00:00, 41.28it/s]"
          }
        },
        "48e59bcddc8042b986c163dfd4c8501c": {
          "model_module": "@jupyter-widgets/base",
          "model_name": "LayoutModel",
          "model_module_version": "1.2.0",
          "state": {
            "_model_module": "@jupyter-widgets/base",
            "_model_module_version": "1.2.0",
            "_model_name": "LayoutModel",
            "_view_count": null,
            "_view_module": "@jupyter-widgets/base",
            "_view_module_version": "1.2.0",
            "_view_name": "LayoutView",
            "align_content": null,
            "align_items": null,
            "align_self": null,
            "border": null,
            "bottom": null,
            "display": null,
            "flex": null,
            "flex_flow": null,
            "grid_area": null,
            "grid_auto_columns": null,
            "grid_auto_flow": null,
            "grid_auto_rows": null,
            "grid_column": null,
            "grid_gap": null,
            "grid_row": null,
            "grid_template_areas": null,
            "grid_template_columns": null,
            "grid_template_rows": null,
            "height": null,
            "justify_content": null,
            "justify_items": null,
            "left": null,
            "margin": null,
            "max_height": null,
            "max_width": null,
            "min_height": null,
            "min_width": null,
            "object_fit": null,
            "object_position": null,
            "order": null,
            "overflow": null,
            "overflow_x": null,
            "overflow_y": null,
            "padding": null,
            "right": null,
            "top": null,
            "visibility": null,
            "width": null
          }
        },
        "0d32e42db3904a6eb7d0185f81e7a1ef": {
          "model_module": "@jupyter-widgets/base",
          "model_name": "LayoutModel",
          "model_module_version": "1.2.0",
          "state": {
            "_model_module": "@jupyter-widgets/base",
            "_model_module_version": "1.2.0",
            "_model_name": "LayoutModel",
            "_view_count": null,
            "_view_module": "@jupyter-widgets/base",
            "_view_module_version": "1.2.0",
            "_view_name": "LayoutView",
            "align_content": null,
            "align_items": null,
            "align_self": null,
            "border": null,
            "bottom": null,
            "display": null,
            "flex": null,
            "flex_flow": null,
            "grid_area": null,
            "grid_auto_columns": null,
            "grid_auto_flow": null,
            "grid_auto_rows": null,
            "grid_column": null,
            "grid_gap": null,
            "grid_row": null,
            "grid_template_areas": null,
            "grid_template_columns": null,
            "grid_template_rows": null,
            "height": null,
            "justify_content": null,
            "justify_items": null,
            "left": null,
            "margin": null,
            "max_height": null,
            "max_width": null,
            "min_height": null,
            "min_width": null,
            "object_fit": null,
            "object_position": null,
            "order": null,
            "overflow": null,
            "overflow_x": null,
            "overflow_y": null,
            "padding": null,
            "right": null,
            "top": null,
            "visibility": null,
            "width": null
          }
        },
        "07470224fabc42b3ac3978a498bba65f": {
          "model_module": "@jupyter-widgets/controls",
          "model_name": "DescriptionStyleModel",
          "model_module_version": "1.5.0",
          "state": {
            "_model_module": "@jupyter-widgets/controls",
            "_model_module_version": "1.5.0",
            "_model_name": "DescriptionStyleModel",
            "_view_count": null,
            "_view_module": "@jupyter-widgets/base",
            "_view_module_version": "1.2.0",
            "_view_name": "StyleView",
            "description_width": ""
          }
        },
        "1bee82ba8eb9484e9d92797af14fa1af": {
          "model_module": "@jupyter-widgets/base",
          "model_name": "LayoutModel",
          "model_module_version": "1.2.0",
          "state": {
            "_model_module": "@jupyter-widgets/base",
            "_model_module_version": "1.2.0",
            "_model_name": "LayoutModel",
            "_view_count": null,
            "_view_module": "@jupyter-widgets/base",
            "_view_module_version": "1.2.0",
            "_view_name": "LayoutView",
            "align_content": null,
            "align_items": null,
            "align_self": null,
            "border": null,
            "bottom": null,
            "display": null,
            "flex": null,
            "flex_flow": null,
            "grid_area": null,
            "grid_auto_columns": null,
            "grid_auto_flow": null,
            "grid_auto_rows": null,
            "grid_column": null,
            "grid_gap": null,
            "grid_row": null,
            "grid_template_areas": null,
            "grid_template_columns": null,
            "grid_template_rows": null,
            "height": null,
            "justify_content": null,
            "justify_items": null,
            "left": null,
            "margin": null,
            "max_height": null,
            "max_width": null,
            "min_height": null,
            "min_width": null,
            "object_fit": null,
            "object_position": null,
            "order": null,
            "overflow": null,
            "overflow_x": null,
            "overflow_y": null,
            "padding": null,
            "right": null,
            "top": null,
            "visibility": null,
            "width": null
          }
        },
        "1fdb2f7ad28c4afab2fb8a6e3b84deaa": {
          "model_module": "@jupyter-widgets/controls",
          "model_name": "ProgressStyleModel",
          "model_module_version": "1.5.0",
          "state": {
            "_model_module": "@jupyter-widgets/controls",
            "_model_module_version": "1.5.0",
            "_model_name": "ProgressStyleModel",
            "_view_count": null,
            "_view_module": "@jupyter-widgets/base",
            "_view_module_version": "1.2.0",
            "_view_name": "StyleView",
            "bar_color": null,
            "description_width": ""
          }
        },
        "90837aece4e344fabdb996cf1f01fd3a": {
          "model_module": "@jupyter-widgets/base",
          "model_name": "LayoutModel",
          "model_module_version": "1.2.0",
          "state": {
            "_model_module": "@jupyter-widgets/base",
            "_model_module_version": "1.2.0",
            "_model_name": "LayoutModel",
            "_view_count": null,
            "_view_module": "@jupyter-widgets/base",
            "_view_module_version": "1.2.0",
            "_view_name": "LayoutView",
            "align_content": null,
            "align_items": null,
            "align_self": null,
            "border": null,
            "bottom": null,
            "display": null,
            "flex": null,
            "flex_flow": null,
            "grid_area": null,
            "grid_auto_columns": null,
            "grid_auto_flow": null,
            "grid_auto_rows": null,
            "grid_column": null,
            "grid_gap": null,
            "grid_row": null,
            "grid_template_areas": null,
            "grid_template_columns": null,
            "grid_template_rows": null,
            "height": null,
            "justify_content": null,
            "justify_items": null,
            "left": null,
            "margin": null,
            "max_height": null,
            "max_width": null,
            "min_height": null,
            "min_width": null,
            "object_fit": null,
            "object_position": null,
            "order": null,
            "overflow": null,
            "overflow_x": null,
            "overflow_y": null,
            "padding": null,
            "right": null,
            "top": null,
            "visibility": null,
            "width": null
          }
        },
        "d64b3248defa4700b90235c2ea3ea550": {
          "model_module": "@jupyter-widgets/controls",
          "model_name": "DescriptionStyleModel",
          "model_module_version": "1.5.0",
          "state": {
            "_model_module": "@jupyter-widgets/controls",
            "_model_module_version": "1.5.0",
            "_model_name": "DescriptionStyleModel",
            "_view_count": null,
            "_view_module": "@jupyter-widgets/base",
            "_view_module_version": "1.2.0",
            "_view_name": "StyleView",
            "description_width": ""
          }
        },
        "b71d35ab41a148388e6929b49c7f5e5b": {
          "model_module": "@jupyter-widgets/controls",
          "model_name": "HBoxModel",
          "model_module_version": "1.5.0",
          "state": {
            "_dom_classes": [],
            "_model_module": "@jupyter-widgets/controls",
            "_model_module_version": "1.5.0",
            "_model_name": "HBoxModel",
            "_view_count": null,
            "_view_module": "@jupyter-widgets/controls",
            "_view_module_version": "1.5.0",
            "_view_name": "HBoxView",
            "box_style": "",
            "children": [
              "IPY_MODEL_9cf07bd2d3564df08f8f8f2133265ea0",
              "IPY_MODEL_3e7e1346aec44fe0961b786c1bf14410",
              "IPY_MODEL_faf4bcb3b9cc4c9993234730ae9967ee"
            ],
            "layout": "IPY_MODEL_a2fa938d935a415d824b1127c3f800f8"
          }
        },
        "9cf07bd2d3564df08f8f8f2133265ea0": {
          "model_module": "@jupyter-widgets/controls",
          "model_name": "HTMLModel",
          "model_module_version": "1.5.0",
          "state": {
            "_dom_classes": [],
            "_model_module": "@jupyter-widgets/controls",
            "_model_module_version": "1.5.0",
            "_model_name": "HTMLModel",
            "_view_count": null,
            "_view_module": "@jupyter-widgets/controls",
            "_view_module_version": "1.5.0",
            "_view_name": "HTMLView",
            "description": "",
            "description_tooltip": null,
            "layout": "IPY_MODEL_6be35cf0bd4a4236b0fef1914d41094b",
            "placeholder": "​",
            "style": "IPY_MODEL_d529f8a6663043118cdf60c08cbb1e4b",
            "value": "Generating for node: Letter: 100%"
          }
        },
        "3e7e1346aec44fe0961b786c1bf14410": {
          "model_module": "@jupyter-widgets/controls",
          "model_name": "FloatProgressModel",
          "model_module_version": "1.5.0",
          "state": {
            "_dom_classes": [],
            "_model_module": "@jupyter-widgets/controls",
            "_model_module_version": "1.5.0",
            "_model_name": "FloatProgressModel",
            "_view_count": null,
            "_view_module": "@jupyter-widgets/controls",
            "_view_module_version": "1.5.0",
            "_view_name": "ProgressView",
            "bar_style": "success",
            "description": "",
            "description_tooltip": null,
            "layout": "IPY_MODEL_25ddea0c95914b3ca2aec3d40e778c6b",
            "max": 5,
            "min": 0,
            "orientation": "horizontal",
            "style": "IPY_MODEL_bf9ffe941b984bbea4f7232bf4aafdf6",
            "value": 5
          }
        },
        "faf4bcb3b9cc4c9993234730ae9967ee": {
          "model_module": "@jupyter-widgets/controls",
          "model_name": "HTMLModel",
          "model_module_version": "1.5.0",
          "state": {
            "_dom_classes": [],
            "_model_module": "@jupyter-widgets/controls",
            "_model_module_version": "1.5.0",
            "_model_name": "HTMLModel",
            "_view_count": null,
            "_view_module": "@jupyter-widgets/controls",
            "_view_module_version": "1.5.0",
            "_view_name": "HTMLView",
            "description": "",
            "description_tooltip": null,
            "layout": "IPY_MODEL_66efdf4f32aa4eae9ffc67076f8beb8c",
            "placeholder": "​",
            "style": "IPY_MODEL_336135b222ae4376b4bbcb252716f221",
            "value": " 5/5 [00:00&lt;00:00,  7.71it/s]"
          }
        },
        "a2fa938d935a415d824b1127c3f800f8": {
          "model_module": "@jupyter-widgets/base",
          "model_name": "LayoutModel",
          "model_module_version": "1.2.0",
          "state": {
            "_model_module": "@jupyter-widgets/base",
            "_model_module_version": "1.2.0",
            "_model_name": "LayoutModel",
            "_view_count": null,
            "_view_module": "@jupyter-widgets/base",
            "_view_module_version": "1.2.0",
            "_view_name": "LayoutView",
            "align_content": null,
            "align_items": null,
            "align_self": null,
            "border": null,
            "bottom": null,
            "display": null,
            "flex": null,
            "flex_flow": null,
            "grid_area": null,
            "grid_auto_columns": null,
            "grid_auto_flow": null,
            "grid_auto_rows": null,
            "grid_column": null,
            "grid_gap": null,
            "grid_row": null,
            "grid_template_areas": null,
            "grid_template_columns": null,
            "grid_template_rows": null,
            "height": null,
            "justify_content": null,
            "justify_items": null,
            "left": null,
            "margin": null,
            "max_height": null,
            "max_width": null,
            "min_height": null,
            "min_width": null,
            "object_fit": null,
            "object_position": null,
            "order": null,
            "overflow": null,
            "overflow_x": null,
            "overflow_y": null,
            "padding": null,
            "right": null,
            "top": null,
            "visibility": null,
            "width": null
          }
        },
        "6be35cf0bd4a4236b0fef1914d41094b": {
          "model_module": "@jupyter-widgets/base",
          "model_name": "LayoutModel",
          "model_module_version": "1.2.0",
          "state": {
            "_model_module": "@jupyter-widgets/base",
            "_model_module_version": "1.2.0",
            "_model_name": "LayoutModel",
            "_view_count": null,
            "_view_module": "@jupyter-widgets/base",
            "_view_module_version": "1.2.0",
            "_view_name": "LayoutView",
            "align_content": null,
            "align_items": null,
            "align_self": null,
            "border": null,
            "bottom": null,
            "display": null,
            "flex": null,
            "flex_flow": null,
            "grid_area": null,
            "grid_auto_columns": null,
            "grid_auto_flow": null,
            "grid_auto_rows": null,
            "grid_column": null,
            "grid_gap": null,
            "grid_row": null,
            "grid_template_areas": null,
            "grid_template_columns": null,
            "grid_template_rows": null,
            "height": null,
            "justify_content": null,
            "justify_items": null,
            "left": null,
            "margin": null,
            "max_height": null,
            "max_width": null,
            "min_height": null,
            "min_width": null,
            "object_fit": null,
            "object_position": null,
            "order": null,
            "overflow": null,
            "overflow_x": null,
            "overflow_y": null,
            "padding": null,
            "right": null,
            "top": null,
            "visibility": null,
            "width": null
          }
        },
        "d529f8a6663043118cdf60c08cbb1e4b": {
          "model_module": "@jupyter-widgets/controls",
          "model_name": "DescriptionStyleModel",
          "model_module_version": "1.5.0",
          "state": {
            "_model_module": "@jupyter-widgets/controls",
            "_model_module_version": "1.5.0",
            "_model_name": "DescriptionStyleModel",
            "_view_count": null,
            "_view_module": "@jupyter-widgets/base",
            "_view_module_version": "1.2.0",
            "_view_name": "StyleView",
            "description_width": ""
          }
        },
        "25ddea0c95914b3ca2aec3d40e778c6b": {
          "model_module": "@jupyter-widgets/base",
          "model_name": "LayoutModel",
          "model_module_version": "1.2.0",
          "state": {
            "_model_module": "@jupyter-widgets/base",
            "_model_module_version": "1.2.0",
            "_model_name": "LayoutModel",
            "_view_count": null,
            "_view_module": "@jupyter-widgets/base",
            "_view_module_version": "1.2.0",
            "_view_name": "LayoutView",
            "align_content": null,
            "align_items": null,
            "align_self": null,
            "border": null,
            "bottom": null,
            "display": null,
            "flex": null,
            "flex_flow": null,
            "grid_area": null,
            "grid_auto_columns": null,
            "grid_auto_flow": null,
            "grid_auto_rows": null,
            "grid_column": null,
            "grid_gap": null,
            "grid_row": null,
            "grid_template_areas": null,
            "grid_template_columns": null,
            "grid_template_rows": null,
            "height": null,
            "justify_content": null,
            "justify_items": null,
            "left": null,
            "margin": null,
            "max_height": null,
            "max_width": null,
            "min_height": null,
            "min_width": null,
            "object_fit": null,
            "object_position": null,
            "order": null,
            "overflow": null,
            "overflow_x": null,
            "overflow_y": null,
            "padding": null,
            "right": null,
            "top": null,
            "visibility": null,
            "width": null
          }
        },
        "bf9ffe941b984bbea4f7232bf4aafdf6": {
          "model_module": "@jupyter-widgets/controls",
          "model_name": "ProgressStyleModel",
          "model_module_version": "1.5.0",
          "state": {
            "_model_module": "@jupyter-widgets/controls",
            "_model_module_version": "1.5.0",
            "_model_name": "ProgressStyleModel",
            "_view_count": null,
            "_view_module": "@jupyter-widgets/base",
            "_view_module_version": "1.2.0",
            "_view_name": "StyleView",
            "bar_color": null,
            "description_width": ""
          }
        },
        "66efdf4f32aa4eae9ffc67076f8beb8c": {
          "model_module": "@jupyter-widgets/base",
          "model_name": "LayoutModel",
          "model_module_version": "1.2.0",
          "state": {
            "_model_module": "@jupyter-widgets/base",
            "_model_module_version": "1.2.0",
            "_model_name": "LayoutModel",
            "_view_count": null,
            "_view_module": "@jupyter-widgets/base",
            "_view_module_version": "1.2.0",
            "_view_name": "LayoutView",
            "align_content": null,
            "align_items": null,
            "align_self": null,
            "border": null,
            "bottom": null,
            "display": null,
            "flex": null,
            "flex_flow": null,
            "grid_area": null,
            "grid_auto_columns": null,
            "grid_auto_flow": null,
            "grid_auto_rows": null,
            "grid_column": null,
            "grid_gap": null,
            "grid_row": null,
            "grid_template_areas": null,
            "grid_template_columns": null,
            "grid_template_rows": null,
            "height": null,
            "justify_content": null,
            "justify_items": null,
            "left": null,
            "margin": null,
            "max_height": null,
            "max_width": null,
            "min_height": null,
            "min_width": null,
            "object_fit": null,
            "object_position": null,
            "order": null,
            "overflow": null,
            "overflow_x": null,
            "overflow_y": null,
            "padding": null,
            "right": null,
            "top": null,
            "visibility": null,
            "width": null
          }
        },
        "336135b222ae4376b4bbcb252716f221": {
          "model_module": "@jupyter-widgets/controls",
          "model_name": "DescriptionStyleModel",
          "model_module_version": "1.5.0",
          "state": {
            "_model_module": "@jupyter-widgets/controls",
            "_model_module_version": "1.5.0",
            "_model_name": "DescriptionStyleModel",
            "_view_count": null,
            "_view_module": "@jupyter-widgets/base",
            "_view_module_version": "1.2.0",
            "_view_name": "StyleView",
            "description_width": ""
          }
        },
        "58b6941456cf45d4b8c43708f5ca8213": {
          "model_module": "@jupyter-widgets/controls",
          "model_name": "VBoxModel",
          "model_module_version": "1.5.0",
          "state": {
            "_dom_classes": [
              "widget-interact"
            ],
            "_model_module": "@jupyter-widgets/controls",
            "_model_module_version": "1.5.0",
            "_model_name": "VBoxModel",
            "_view_count": null,
            "_view_module": "@jupyter-widgets/controls",
            "_view_module_version": "1.5.0",
            "_view_name": "VBoxView",
            "box_style": "",
            "children": [
              "IPY_MODEL_cf74b3b849b2420c90404c6c3e045a81",
              "IPY_MODEL_f4f32ee3bad1421fadedf527f8e1ee93"
            ],
            "layout": "IPY_MODEL_3309157ddfe64913bc5ea0694a4993a5"
          }
        },
        "cf74b3b849b2420c90404c6c3e045a81": {
          "model_module": "@jupyter-widgets/controls",
          "model_name": "IntSliderModel",
          "model_module_version": "1.5.0",
          "state": {
            "_dom_classes": [],
            "_model_module": "@jupyter-widgets/controls",
            "_model_module_version": "1.5.0",
            "_model_name": "IntSliderModel",
            "_view_count": null,
            "_view_module": "@jupyter-widgets/controls",
            "_view_module_version": "1.5.0",
            "_view_name": "IntSliderView",
            "continuous_update": true,
            "description": "frame",
            "description_tooltip": null,
            "disabled": false,
            "layout": "IPY_MODEL_b1d75eef397f4b428c8a6c04394d1376",
            "max": 1000,
            "min": 0,
            "orientation": "horizontal",
            "readout": true,
            "readout_format": "d",
            "step": 1,
            "style": "IPY_MODEL_513fafd82a84424b835678549534fa79",
            "value": 500
          }
        },
        "f4f32ee3bad1421fadedf527f8e1ee93": {
          "model_module": "@jupyter-widgets/output",
          "model_name": "OutputModel",
          "model_module_version": "1.0.0",
          "state": {
            "_dom_classes": [],
            "_model_module": "@jupyter-widgets/output",
            "_model_module_version": "1.0.0",
            "_model_name": "OutputModel",
            "_view_count": null,
            "_view_module": "@jupyter-widgets/output",
            "_view_module_version": "1.0.0",
            "_view_name": "OutputView",
            "layout": "IPY_MODEL_137cbedea0ac48bbb574bcf28e712fd8",
            "msg_id": "",
            "outputs": [
              {
                "output_type": "display_data",
                "data": {
                  "text/plain": "<PIL.Image.Image image mode=L size=30x30>",
                  "image/png": "iVBORw0KGgoAAAANSUhEUgAAAB4AAAAeCAAAAAAeW/F+AAABKklEQVR4AVWSCw6DMAxDW8T9r9y9ZwfQkFjzsR03bJ2z+hyiiTmMm339AdKk9zUTTfqQ6FPZZ3+cifZZKdK6nDDsnepelCMN5oLRNAQQwqtIdIFU04Jj2/AQllbDdEXaSEI34uLw2HJhqiB85+BnSMHEeiLZURM8CuQl6xxJE7V9jb8n7LWneHYkR48i7bgnFCLbMDGNa9TQnWUID6N4w+c7dA+tuJRcDEUZf75Uh8W9281pjQdwd72dLVJ+XHdOSjRwjileCn1DzddAIYxIKSdGqU7gyFo4c9OUZ0W5ps4pVqTdWpPPgzXlYLNPomcDlhh2a/ytPYvrdMD9JE5gZscWkwtYGK+9FpkWMpCI700qqHvSRxLt1EssiX89sBVj/4oRlWtlZkXBnx+NlbP+UmGH8QAAAABJRU5ErkJggg==\n",
                  "image/jpeg": "/9j/4AAQSkZJRgABAQAAAQABAAD/2wBDAAgGBgcGBQgHBwcJCQgKDBQNDAsLDBkSEw8UHRofHh0aHBwgJC4nICIsIxwcKDcpLDAxNDQ0Hyc5PTgyPC4zNDL/wAALCAAeAB4BAREA/8QAHwAAAQUBAQEBAQEAAAAAAAAAAAECAwQFBgcICQoL/8QAtRAAAgEDAwIEAwUFBAQAAAF9AQIDAAQRBRIhMUEGE1FhByJxFDKBkaEII0KxwRVS0fAkM2JyggkKFhcYGRolJicoKSo0NTY3ODk6Q0RFRkdISUpTVFVWV1hZWmNkZWZnaGlqc3R1dnd4eXqDhIWGh4iJipKTlJWWl5iZmqKjpKWmp6ipqrKztLW2t7i5usLDxMXGx8jJytLT1NXW19jZ2uHi4+Tl5ufo6erx8vP09fb3+Pn6/9oACAEBAAA/AOL8XaJaazrd3c2viPTb20nc3FtqE0ryPbWiIXIuWVmkB3Sxwp5itIxQKNgCq2xpz2154as28bvrMOi6TcW+niD7SlufKcfvVeFt00iLPbAHD9FYoqeSUGpD4a8JxwaXd+H/ABD/AGTH4glW2tY4pUvXtrre0kbOjDKyLHKke5GVoGZfmcOz1x+v6R4i8UeG9O1W507SrHyZRBJL/aMdrHJutbZoT5UjiJGMQU/u8ZAwVXYM7ngbUrn4deNbOxg0q71UX1lbebbNI8U+nSzNEkoZHCohaRUA3Abl8k7wDz1dreaJqHg2cWN7BeSeHt2pJZCeKN7i0hj8qGYSRqXSbyY1BLjejOw2xkwvHJ4v1fw1q/whgi0y3tDcTotvYWtlDbsPPkWN3Mdr5p2vuk8s43SxmRiMg7m0PgLJMvhMfbzaNcXiebbTAETyW8bGHY5KDeI2XA+dyqyICEG0Gv4m8TxaF4jm8jUJNT1BLh5JWht4baCwgknjgM+6T5JrhARbq+7aoVg4G193CeOr5NX8M6FZW2kT/Z4tQjtPs2lyrPDcBIlRGE0bSKtw6YURuZnVY1wQCfN310KDVPAw0vwT4P8A7UtDdzrd3V4IreaNnFu/mW32guUjkhO1SQWACMSWGWZPf3cV7Z+FLTX49F0Gxt5ArLqaaaUuoXWCWFrlYm807g02NiMwuAzAYUVr2nhK58GeAPE9r4cvY7K/s7gR6vqWHaV7aOATFoRu2+btl4HyAbiu4lRK0fjfQ/Fnh/Qdb17UfEU8traXa3Fikd08u1vNhMUjxMqqW3xrlMmNfOdkRdgR+c0TVZvE3xFg8HXNtHa+G9VsrNv7KjlMkaxx2sc0e6QKkjPsUDcGByEyXSMKx8UtMl8FXF3caDJJobrcRPHHpd3MilLk3G/cC2AT9jibCKgGdp37Fav/2Q==\n"
                },
                "metadata": {}
              }
            ]
          }
        },
        "3309157ddfe64913bc5ea0694a4993a5": {
          "model_module": "@jupyter-widgets/base",
          "model_name": "LayoutModel",
          "model_module_version": "1.2.0",
          "state": {
            "_model_module": "@jupyter-widgets/base",
            "_model_module_version": "1.2.0",
            "_model_name": "LayoutModel",
            "_view_count": null,
            "_view_module": "@jupyter-widgets/base",
            "_view_module_version": "1.2.0",
            "_view_name": "LayoutView",
            "align_content": null,
            "align_items": null,
            "align_self": null,
            "border": null,
            "bottom": null,
            "display": null,
            "flex": null,
            "flex_flow": null,
            "grid_area": null,
            "grid_auto_columns": null,
            "grid_auto_flow": null,
            "grid_auto_rows": null,
            "grid_column": null,
            "grid_gap": null,
            "grid_row": null,
            "grid_template_areas": null,
            "grid_template_columns": null,
            "grid_template_rows": null,
            "height": null,
            "justify_content": null,
            "justify_items": null,
            "left": null,
            "margin": null,
            "max_height": null,
            "max_width": null,
            "min_height": null,
            "min_width": null,
            "object_fit": null,
            "object_position": null,
            "order": null,
            "overflow": null,
            "overflow_x": null,
            "overflow_y": null,
            "padding": null,
            "right": null,
            "top": null,
            "visibility": null,
            "width": null
          }
        },
        "b1d75eef397f4b428c8a6c04394d1376": {
          "model_module": "@jupyter-widgets/base",
          "model_name": "LayoutModel",
          "model_module_version": "1.2.0",
          "state": {
            "_model_module": "@jupyter-widgets/base",
            "_model_module_version": "1.2.0",
            "_model_name": "LayoutModel",
            "_view_count": null,
            "_view_module": "@jupyter-widgets/base",
            "_view_module_version": "1.2.0",
            "_view_name": "LayoutView",
            "align_content": null,
            "align_items": null,
            "align_self": null,
            "border": null,
            "bottom": null,
            "display": null,
            "flex": null,
            "flex_flow": null,
            "grid_area": null,
            "grid_auto_columns": null,
            "grid_auto_flow": null,
            "grid_auto_rows": null,
            "grid_column": null,
            "grid_gap": null,
            "grid_row": null,
            "grid_template_areas": null,
            "grid_template_columns": null,
            "grid_template_rows": null,
            "height": null,
            "justify_content": null,
            "justify_items": null,
            "left": null,
            "margin": null,
            "max_height": null,
            "max_width": null,
            "min_height": null,
            "min_width": null,
            "object_fit": null,
            "object_position": null,
            "order": null,
            "overflow": null,
            "overflow_x": null,
            "overflow_y": null,
            "padding": null,
            "right": null,
            "top": null,
            "visibility": null,
            "width": null
          }
        },
        "513fafd82a84424b835678549534fa79": {
          "model_module": "@jupyter-widgets/controls",
          "model_name": "SliderStyleModel",
          "model_module_version": "1.5.0",
          "state": {
            "_model_module": "@jupyter-widgets/controls",
            "_model_module_version": "1.5.0",
            "_model_name": "SliderStyleModel",
            "_view_count": null,
            "_view_module": "@jupyter-widgets/base",
            "_view_module_version": "1.2.0",
            "_view_name": "StyleView",
            "description_width": "",
            "handle_color": null
          }
        },
        "137cbedea0ac48bbb574bcf28e712fd8": {
          "model_module": "@jupyter-widgets/base",
          "model_name": "LayoutModel",
          "model_module_version": "1.2.0",
          "state": {
            "_model_module": "@jupyter-widgets/base",
            "_model_module_version": "1.2.0",
            "_model_name": "LayoutModel",
            "_view_count": null,
            "_view_module": "@jupyter-widgets/base",
            "_view_module_version": "1.2.0",
            "_view_name": "LayoutView",
            "align_content": null,
            "align_items": null,
            "align_self": null,
            "border": null,
            "bottom": null,
            "display": null,
            "flex": null,
            "flex_flow": null,
            "grid_area": null,
            "grid_auto_columns": null,
            "grid_auto_flow": null,
            "grid_auto_rows": null,
            "grid_column": null,
            "grid_gap": null,
            "grid_row": null,
            "grid_template_areas": null,
            "grid_template_columns": null,
            "grid_template_rows": null,
            "height": null,
            "justify_content": null,
            "justify_items": null,
            "left": null,
            "margin": null,
            "max_height": null,
            "max_width": null,
            "min_height": null,
            "min_width": null,
            "object_fit": null,
            "object_position": null,
            "order": null,
            "overflow": null,
            "overflow_x": null,
            "overflow_y": null,
            "padding": null,
            "right": null,
            "top": null,
            "visibility": null,
            "width": null
          }
        }
      }
    }
  },
  "cells": [
    {
      "cell_type": "markdown",
      "source": [
        "# COMP64101 - Probabalistic Graphical Networks Lab\n",
        "\n",
        "## Goals of this weeks lab:\n",
        "\n",
        "\n",
        "1.   Understand when to use Probabalistic Graphical Networks\n",
        "2.   Learn about Directed PGM's\n",
        "3.   Learn about Undirected PGM's\n",
        "\n",
        "### <font color='289C4E'>Table of contents<font><a class='anchor' id='top'></a>\n",
        "- [1. Introduction to PGM's](#1)\n",
        "- [2. Directed PGM - Bayes Net](#2)\n",
        "- [3. Undirected PGM - Markov Net](#3)\n",
        "- [4. Additional Exercises](#4)\n",
        "\n",
        "\n"
      ],
      "metadata": {
        "id": "iuTvRvGl5cB9"
      }
    },
    {
      "cell_type": "code",
      "source": [
        "# Set up the environment for the exercises in this chapter\n",
        "!python --version\n",
        "\n",
        "# !pip install -qq git+https://github.com/probml/probml-utils.git\n",
        "!pip install -qq pgmpy\n",
        "\n",
        "# Notebook wide packages\n",
        "import numpy as np\n",
        "import pandas as pd\n",
        "import pgmpy\n",
        "import networkx as nx\n",
        "import matplotlib.pyplot as plt"
      ],
      "metadata": {
        "id": "rdGJlun-HZVz",
        "colab": {
          "base_uri": "https://localhost:8080/"
        },
        "outputId": "9ab85508-3934-47df-b56f-c43f9533cb7a"
      },
      "execution_count": 1,
      "outputs": [
        {
          "output_type": "stream",
          "name": "stdout",
          "text": [
            "Python 3.11.11\n",
            "\u001b[2K   \u001b[90m━━━━━━━━━━━━━━━━━━━━━━━━━━━━━━━━━━━━━━━━\u001b[0m \u001b[32m2.0/2.0 MB\u001b[0m \u001b[31m10.0 MB/s\u001b[0m eta \u001b[36m0:00:00\u001b[0m\n",
            "\u001b[2K   \u001b[90m━━━━━━━━━━━━━━━━━━━━━━━━━━━━━━━━━━━━━━━━\u001b[0m \u001b[32m363.4/363.4 MB\u001b[0m \u001b[31m1.5 MB/s\u001b[0m eta \u001b[36m0:00:00\u001b[0m\n",
            "\u001b[2K   \u001b[90m━━━━━━━━━━━━━━━━━━━━━━━━━━━━━━━━━━━━━━━━\u001b[0m \u001b[32m13.8/13.8 MB\u001b[0m \u001b[31m53.0 MB/s\u001b[0m eta \u001b[36m0:00:00\u001b[0m\n",
            "\u001b[2K   \u001b[90m━━━━━━━━━━━━━━━━━━━━━━━━━━━━━━━━━━━━━━━━\u001b[0m \u001b[32m24.6/24.6 MB\u001b[0m \u001b[31m37.9 MB/s\u001b[0m eta \u001b[36m0:00:00\u001b[0m\n",
            "\u001b[2K   \u001b[90m━━━━━━━━━━━━━━━━━━━━━━━━━━━━━━━━━━━━━━━━\u001b[0m \u001b[32m883.7/883.7 kB\u001b[0m \u001b[31m36.7 MB/s\u001b[0m eta \u001b[36m0:00:00\u001b[0m\n",
            "\u001b[2K   \u001b[90m━━━━━━━━━━━━━━━━━━━━━━━━━━━━━━━━━━━━━━━━\u001b[0m \u001b[32m664.8/664.8 MB\u001b[0m \u001b[31m2.8 MB/s\u001b[0m eta \u001b[36m0:00:00\u001b[0m\n",
            "\u001b[2K   \u001b[90m━━━━━━━━━━━━━━━━━━━━━━━━━━━━━━━━━━━━━━━━\u001b[0m \u001b[32m211.5/211.5 MB\u001b[0m \u001b[31m5.0 MB/s\u001b[0m eta \u001b[36m0:00:00\u001b[0m\n",
            "\u001b[2K   \u001b[90m━━━━━━━━━━━━━━━━━━━━━━━━━━━━━━━━━━━━━━━━\u001b[0m \u001b[32m56.3/56.3 MB\u001b[0m \u001b[31m11.9 MB/s\u001b[0m eta \u001b[36m0:00:00\u001b[0m\n",
            "\u001b[2K   \u001b[90m━━━━━━━━━━━━━━━━━━━━━━━━━━━━━━━━━━━━━━━━\u001b[0m \u001b[32m127.9/127.9 MB\u001b[0m \u001b[31m7.5 MB/s\u001b[0m eta \u001b[36m0:00:00\u001b[0m\n",
            "\u001b[2K   \u001b[90m━━━━━━━━━━━━━━━━━━━━━━━━━━━━━━━━━━━━━━━━\u001b[0m \u001b[32m207.5/207.5 MB\u001b[0m \u001b[31m6.3 MB/s\u001b[0m eta \u001b[36m0:00:00\u001b[0m\n",
            "\u001b[2K   \u001b[90m━━━━━━━━━━━━━━━━━━━━━━━━━━━━━━━━━━━━━━━━\u001b[0m \u001b[32m21.1/21.1 MB\u001b[0m \u001b[31m73.9 MB/s\u001b[0m eta \u001b[36m0:00:00\u001b[0m\n",
            "\u001b[?25h"
          ]
        }
      ]
    },
    {
      "cell_type": "markdown",
      "source": [
        "# 1. An Introduction to PGM's <a class=\"anchor\" id=\"1\"></a>"
      ],
      "metadata": {
        "id": "ZPrmP3gP70KG"
      }
    },
    {
      "cell_type": "markdown",
      "source": [
        "Probabilistic Graphical Models (PGMs) are a modelling technique where random variables are treated as nodes and statistical dependencies as edges. In otherwords, PGM's offer a visual (graphical) way to interpret complex probabilistic systems. Graphs are an intuitive way for us to realise the relationships between many different variables. They can also be considered as mathematical tools which allow us to reason about uncertainty and make predictions.\n",
        "\n",
        "<center>\n",
        "<img src=\"https://danmackinlay.name/images/Graphical_Models_David_Barber.gif\" width=700>\n",
        "\n",
        "Image Source: https://danmackinlay.name/notebook/graphical_models\n",
        "</center>\n",
        "\n",
        "\n",
        "### Why Use PGMs?\n",
        "\n",
        "The key benefits of PGMs include:\n",
        "\n",
        "- **Structured Representation**: PGMs give us a clear way to represent complex relationships between variables. This is because we can clearly state how each variable relates to each other variable.\n",
        "- **Modularity**: The graphical structure allows for modular design, making it easier to update or extend models. If we find a new variable, we can easily connect it into the graph.\n",
        "- **Inference**: PGMs enable us to calculate probabilities, such as the likelihood of an event given observed evidence. In some cases, the probabilities will be intractable. However, we can still approximate.\n",
        "- **Learning**: PGM's facilitate learning from data. This allows us to estimate unknown parameters and find patterns in the underlying structures.\n",
        "\n",
        "### Types of Probabilistic Graphical Models\n",
        "\n",
        "PGMs can be broadly categorized into two types based on the nature of the dependencies between variables:\n",
        "\n",
        "1. **Directed Graphical Models (Bayesian Networks)**: In these models, the edges between nodes represent conditional dependencies, and the graph is a Directed Acyclic Graph (DAG). Each node corresponds to a random variable, and the directed edges imply a conditional dependence structure, often represented as $P(X_i | \\text{Parents}(X_i))$. Example applications include:\n",
        "  - Medical diagnosis\n",
        "  - causal inference\n",
        "  - sequential decision-making.\n",
        "\n",
        "<center>\n",
        "<img src=\"https://miro.medium.com/v2/resize:fit:720/format:webp/1*mQ_XiRNSEuCTsiqrKzAzXg.gif\" width=700>\n",
        "\n",
        "Image Source: https://miro.medium.com/v2/resize:fit:720/format:webp/1*mQ_XiRNSEuCTsiqrKzAzXg.gif\n",
        "</center>\n",
        "   \n",
        "2. **Undirected Graphical Models (Markov Random Fields)**: Unlike directed models, undirected graphical models use undirected edges to represent dependencies between random variables. These models capture the notion of Markov properties and are often used when the direction of dependencies is not explicitly known or when the relationships are symmetric. Example applications include:\n",
        "  - Statistical physics\n",
        "  - Image processing\n",
        "  - Finance\n",
        "  - social network analysis.\n",
        "\n",
        "  We will see an example of image processing in Section 3 of this notebook.\n",
        "\n",
        "<center>\n",
        "<img src=\"https://www.researchgate.net/publication/237134887/figure/fig2/AS:651126194057216@1532251990018/An-acyclic-undirected-graphical-model.png\" width=700>\n",
        "\n",
        "Image Source: https://www.researchgate.net/publication/237134887_Statistical_Inference_in_Graphical_Models\n",
        "</center>\n",
        "\n",
        "Both directed and undirected PGMs have their strengths and are used in different applications based on the nature of the problem. We will see examples of both in the upcoming chapters.\n",
        "\n",
        "## Graph Theory and Probabilistic Models\n",
        "\n",
        "At the core of PGMs lies the interplay between graph theory and probability theory. The graph structure encodes the relationships between random variables, while probability theory quantifies the uncertainty associated with these variables.\n",
        "\n",
        "- **Nodes (Vertices)**: Represent random variables in the model.\n",
        "- **Edges (Links)**: Represent probabilistic dependencies between these variables.\n",
        "  \n",
        "  - In directed models, an edge from node \\(A\\) to node \\(B\\) implies \\(A\\) has a direct influence on \\(B\\).\n",
        "  - In undirected models, an edge between nodes \\(A\\) and \\(B\\) implies a mutual dependence between these variables.\n",
        "\n",
        "\n",
        "In the next chapter, we will begin to understand directed PGM's.\n",
        "\n",
        "<center>\n",
        "<img src=\"https://mathinsight.org/media/image/image/small_undirected_network_labeled.png\" width=500>\n",
        "\n",
        "Image Source: https://mathinsight.org/network_introduction\n",
        "</center>\n",
        "\n"
      ],
      "metadata": {
        "id": "BRKElaXkC1tc"
      }
    },
    {
      "cell_type": "markdown",
      "source": [
        "# 2. Directed PGM - Bayes Net <a class=\"anchor\" id=\"2\"></a>"
      ],
      "metadata": {
        "id": "sE4jaWsX1eMz"
      }
    },
    {
      "cell_type": "code",
      "source": [
        "# import probml_utils.pgmpy_utils as pgm\n",
        "# from causalgraphicalmodels import CausalGraphicalModel\n",
        "from pgmpy.models import BayesianNetwork\n",
        "from pgmpy.factors.discrete import TabularCPD\n",
        "import networkx as nx\n",
        "import matplotlib.pyplot as plt"
      ],
      "metadata": {
        "id": "HDlcP_luHkHu"
      },
      "execution_count": 2,
      "outputs": []
    },
    {
      "cell_type": "markdown",
      "source": [
        "The material in this part is based on:\n",
        "1. https://github.com/probml/pyprobml/blob/master/notebooks/book2/04/student_pgm.ipynb\n",
        "2. https://github.com/pgmpy/pgmpy/blob/dev/examples/Learning%20Parameters%20in%20Discrete%20Bayesian%20Networks.ipynb"
      ],
      "metadata": {
        "id": "_gBk4J7G3sdx"
      }
    },
    {
      "cell_type": "markdown",
      "source": [
        "## Introduction to Directed PGM's\n",
        "\n",
        "Directed Probabilistic Graphical Models, commonly known as **Bayesian Networks**, are a type of PGM where the relationships between variables are represented using a Directed Acyclic Graph (DAG). In these models, each node corresponds to a random variable, and directed edges between nodes represent conditional dependencies. Bayesian Networks are particularly powerful for modeling causal relationships, where the direction of the edges often reflects the direction of causality.\n",
        "\n",
        "### Key Properties of Directed PGMs\n",
        "\n",
        "1. **Directed Acyclic Graph (DAG)**: This means that while edges are form a pathway from one random variable to another, the graph cannot contain cycles. In other words, we cannot start from one node, follow the directed edges, and return to the same node.\n",
        "\n",
        "2. **Conditional Independence**: If a node \\(X\\) has no direct edge to another node \\(Y\\), it implies that \\(X\\) and \\(Y\\) are conditionally independent given their parents. This property significantly simplifies the computation of joint probabilities.\n",
        "\n",
        "3. **Local Probability Distributions**: Each node in a Bayesian Network is associated with a conditional probability distribution that describes the probability of the variable given its parents in the graph. This local distribution encapsulates how the node's value depends on its parent nodes.\n",
        "\n",
        "### Student network model\n",
        "\n",
        "To understand how Bayesian Networks work in practice, let's consider a simple  example, known as the **Student Network**. Imagine you're trying to model the factors that influence a student's academic performance. Several variables come into play, such as the student's intelligence, the difficulty of the course, whether they studied for the exam, and the grades they receive. These factors are not independent of each other; for example, a more intelligent student might find it easier to achieve good grades, but this could also depend on how difficult the course is and how much effort they put into studying.\n",
        "\n",
        "Lets begin by exploring the structure of the data. We begin by defining the structure as a Bayesian network. This is in the form (parent, child):"
      ],
      "metadata": {
        "id": "tUc4T05nIBQy"
      }
    },
    {
      "cell_type": "code",
      "source": [
        "# Defining the model structure. We can define the network by just passing a list of edges.\n",
        "model = BayesianNetwork([('Diff', 'Grade'), ('Intel', 'Grade'), ('Grade', 'Letter'), ('Intel', 'SAT')])"
      ],
      "metadata": {
        "id": "1flMsnDSZ1lz"
      },
      "execution_count": 3,
      "outputs": []
    },
    {
      "cell_type": "markdown",
      "source": [
        "In order to visualise this, we define it as a networkx graph:"
      ],
      "metadata": {
        "id": "mpqx8-SutECW"
      }
    },
    {
      "cell_type": "code",
      "source": [
        "# Define a graph structure\n",
        "edges = [('Diff', 'Grade'), ('Intel', 'Grade'), ('Grade', 'Letter'), ('Intel', 'SAT')]\n",
        "Graph = nx.DiGraph()\n",
        "Graph.add_edges_from(edges)\n",
        "pos = nx.spring_layout(Graph)\n",
        "nx.draw(Graph, pos, with_labels=True, node_size=3000, node_color='lightblue', font_size=10, font_weight='bold', arrowsize=20)\n",
        "plt.show()"
      ],
      "metadata": {
        "colab": {
          "base_uri": "https://localhost:8080/",
          "height": 516
        },
        "id": "lHBPXjqQtJJL",
        "outputId": "1a677b7c-1a81-48f5-d00b-224b9835e46b"
      },
      "execution_count": 4,
      "outputs": [
        {
          "output_type": "display_data",
          "data": {
            "text/plain": [
              "<Figure size 640x480 with 1 Axes>"
            ],
            "image/png": "[encoded data removed]"
          },
          "metadata": {}
        }
      ]
    },
    {
      "cell_type": "markdown",
      "source": [
        "We can now build upon the Bayesian network structure by adding in conditional probability distirbutions. In a Bayesian Network, each node (random variable) has an associated CPD that defines the probability of that node given its parents in the graph. If a node has no parents, its CPD is simply its **prior** probability distribution.\n",
        "\n",
        "For a node $X$ with parents $Y_1, Y_2, \\cdots, Y_k$, the CPD specifies $ P(X | Y_1, Y_2, ⋯ Y_k)$. In python, we define these using the state names of the variables. First we begin with Difficulty and Inteligence, since these are based only on their priors."
      ],
      "metadata": {
        "id": "25B2YK3OvNra"
      }
    },
    {
      "cell_type": "code",
      "source": [
        "# TabularCPD(variable=*variable_name*, variable_card=*Number of possible outcomes*, values=*probabilities*, state_names=*The possible states of the random variable* )\n",
        "cpd_d_sn = TabularCPD(variable=\"Diff\", variable_card=2, values=[[0.6], [0.4]], state_names={\"Diff\": [\"Easy\", \"Hard\"]})\n",
        "cpd_i_sn = TabularCPD(variable=\"Intel\", variable_card=2, values=[[0.7], [0.3]], state_names={\"Intel\": [\"Low\", \"High\"]})"
      ],
      "metadata": {
        "id": "wuHcUXW7wyow"
      },
      "execution_count": 5,
      "outputs": []
    },
    {
      "cell_type": "markdown",
      "source": [
        "The probability of a student having low intelligence is therefore 0.7. Similarly, the probability of a hard exam is 0.4.\n",
        "\n",
        "Next, we define the child nodes. To do this, we state the parent nodes under evidence as well as the conditional probabilities:"
      ],
      "metadata": {
        "id": "s6YJfVJx0YAr"
      }
    },
    {
      "cell_type": "code",
      "source": [
        "# CPDs can be defined using the state names of the variables. If the state names are not provided pgmpy will automatically assign names as: 0, 1, 2, ....\n",
        "# TabularCPD(variable=*variable_name*, variable_card=*Number of possible outcomes*, values=*probabilities* evidence=*parent nodes*, evidence_card=*number of outcomes for parents*, state_names=*The possible states of the random variable*)\n",
        "\n",
        "cpd_l_sn = TabularCPD(\n",
        "    variable=\"Letter\",\n",
        "    variable_card=2,\n",
        "    values=[[0.1, 0.4, 0.99],  # P(Letter = Bad | Grade)\n",
        "            [0.9, 0.6, 0.01]], # P(Letter = Good| Grade)\n",
        "    evidence=[\"Grade\"],\n",
        "    evidence_card=[3],\n",
        "    state_names={\"Letter\": [\"Bad\", \"Good\"], \"Grade\": [\"A\", \"B\", \"C\"]},\n",
        ")\n",
        "\n",
        "cpd_s_sn = TabularCPD(\n",
        "    variable=\"SAT\",\n",
        "    variable_card=2,\n",
        "    values=[[0.95, 0.2], # P(SAT = Bad | Intel)\n",
        "            [0.05, 0.8]],# P(SAT = Good| Intel)\n",
        "    evidence=[\"Intel\"],\n",
        "    evidence_card=[2],\n",
        "    state_names={\"SAT\": [\"Bad\", \"Good\"], \"Intel\": [\"Low\", \"High\"]},\n",
        ")\n",
        "cpd_g_sn = TabularCPD(\n",
        "    variable=\"Grade\",\n",
        "    variable_card=3,\n",
        "    values=[[0.3, 0.05, 0.9, 0.5],  # P(Grade = A | Intel, Diff)\n",
        "            [0.4, 0.25, 0.08, 0.3], # P(Grade = B | Intel, Diff)\n",
        "            [0.3, 0.7, 0.02, 0.2]], # P(Grade = C | Intel, Diff)\n",
        "    evidence=[\"Intel\", \"Diff\"],\n",
        "    evidence_card=[2, 2],\n",
        "    state_names={\"Grade\": [\"A\", \"B\", \"C\"], \"Intel\": [\"Low\", \"High\"], \"Diff\": [\"Easy\", \"Hard\"]},\n",
        ")\n",
        "\n"
      ],
      "metadata": {
        "id": "U0tGF83bazZu"
      },
      "execution_count": 6,
      "outputs": []
    },
    {
      "cell_type": "markdown",
      "source": [
        "Above, we defined 2 dependencies. First, we defined the CPD's of the letter variable. This has variable_card=2 i.e. 2 outcomes which are defined as [\"Bad\", \"Good\"]. Furthermore, it has one parent: Grade (which can be seen in the evidence field) which can take 3 values (evidence_card=[3]) with labels \"Grade\": [\"A\", \"B\", \"C\"].\n",
        "\n",
        "The values field contains two separate lists. Each of these lists corresponds to one of the outcomes i.e. Bad or Good. the probabilities [0.1, 0.4, 0.99] correspond to [P(Bad letter | Grade A), P(Bad letter | Grade B), P(Bad letter | Grade C)], while [0.9, 0.6, 0.01] corresponds to [P(Good letter | Grade A), ...].\n",
        "\n",
        "Next, we associate the CPD's with the network as follows:"
      ],
      "metadata": {
        "id": "HFFLXago19wU"
      }
    },
    {
      "cell_type": "code",
      "source": [
        "# Associating the CPDs with the network\n",
        "model.add_cpds(cpd_d_sn, cpd_i_sn, cpd_g_sn, cpd_l_sn, cpd_s_sn)"
      ],
      "metadata": {
        "id": "T2op3h-r17xM"
      },
      "execution_count": 7,
      "outputs": []
    },
    {
      "cell_type": "code",
      "source": [
        "# Printing a CPD with it's state names defined.\n",
        "print(model.get_cpds(\"Grade\"))"
      ],
      "metadata": {
        "id": "_ipoqhLLbHE7",
        "colab": {
          "base_uri": "https://localhost:8080/"
        },
        "outputId": "b3ff73a8-54bc-4f41-9c8a-7afd999bf4ec"
      },
      "execution_count": 8,
      "outputs": [
        {
          "output_type": "stream",
          "name": "stdout",
          "text": [
            "+----------+------------+------------+-------------+-------------+\n",
            "| Intel    | Intel(Low) | Intel(Low) | Intel(High) | Intel(High) |\n",
            "+----------+------------+------------+-------------+-------------+\n",
            "| Diff     | Diff(Easy) | Diff(Hard) | Diff(Easy)  | Diff(Hard)  |\n",
            "+----------+------------+------------+-------------+-------------+\n",
            "| Grade(A) | 0.3        | 0.05       | 0.9         | 0.5         |\n",
            "+----------+------------+------------+-------------+-------------+\n",
            "| Grade(B) | 0.4        | 0.25       | 0.08        | 0.3         |\n",
            "+----------+------------+------------+-------------+-------------+\n",
            "| Grade(C) | 0.3        | 0.7        | 0.02        | 0.2         |\n",
            "+----------+------------+------------+-------------+-------------+\n"
          ]
        }
      ]
    },
    {
      "cell_type": "code",
      "source": [
        "for cpd in model.get_cpds():\n",
        "    print(cpd)"
      ],
      "metadata": {
        "id": "lsAEeOCXbNXR",
        "colab": {
          "base_uri": "https://localhost:8080/"
        },
        "outputId": "2841c538-1759-4ec1-9f1f-70f82069f1a1"
      },
      "execution_count": 9,
      "outputs": [
        {
          "output_type": "stream",
          "name": "stdout",
          "text": [
            "+------------+-----+\n",
            "| Diff(Easy) | 0.6 |\n",
            "+------------+-----+\n",
            "| Diff(Hard) | 0.4 |\n",
            "+------------+-----+\n",
            "+-------------+-----+\n",
            "| Intel(Low)  | 0.7 |\n",
            "+-------------+-----+\n",
            "| Intel(High) | 0.3 |\n",
            "+-------------+-----+\n",
            "+----------+------------+------------+-------------+-------------+\n",
            "| Intel    | Intel(Low) | Intel(Low) | Intel(High) | Intel(High) |\n",
            "+----------+------------+------------+-------------+-------------+\n",
            "| Diff     | Diff(Easy) | Diff(Hard) | Diff(Easy)  | Diff(Hard)  |\n",
            "+----------+------------+------------+-------------+-------------+\n",
            "| Grade(A) | 0.3        | 0.05       | 0.9         | 0.5         |\n",
            "+----------+------------+------------+-------------+-------------+\n",
            "| Grade(B) | 0.4        | 0.25       | 0.08        | 0.3         |\n",
            "+----------+------------+------------+-------------+-------------+\n",
            "| Grade(C) | 0.3        | 0.7        | 0.02        | 0.2         |\n",
            "+----------+------------+------------+-------------+-------------+\n",
            "+--------------+----------+----------+----------+\n",
            "| Grade        | Grade(A) | Grade(B) | Grade(C) |\n",
            "+--------------+----------+----------+----------+\n",
            "| Letter(Bad)  | 0.1      | 0.4      | 0.99     |\n",
            "+--------------+----------+----------+----------+\n",
            "| Letter(Good) | 0.9      | 0.6      | 0.01     |\n",
            "+--------------+----------+----------+----------+\n",
            "+-----------+------------+-------------+\n",
            "| Intel     | Intel(Low) | Intel(High) |\n",
            "+-----------+------------+-------------+\n",
            "| SAT(Bad)  | 0.95       | 0.2         |\n",
            "+-----------+------------+-------------+\n",
            "| SAT(Good) | 0.05       | 0.8         |\n",
            "+-----------+------------+-------------+\n"
          ]
        }
      ]
    },
    {
      "cell_type": "markdown",
      "source": [
        "To view this as a graph structure, use the following code cell:"
      ],
      "metadata": {
        "id": "Jb2Vknip600k"
      }
    },
    {
      "cell_type": "code",
      "source": [
        "# Create a directed graph for the Bayesian Network\n",
        "graph = nx.DiGraph(model.edges())\n",
        "\n",
        "# Define positions for the nodes\n",
        "pos = {\n",
        "    \"Diff\": (0, 0),\n",
        "    \"Intel\": (2, 0),\n",
        "    \"Grade\": (1, 2),\n",
        "    \"Letter\": (0, 4),\n",
        "    \"SAT\": (2, 4),\n",
        "}\n",
        "\n",
        "# Draw the graph with directed arrows\n",
        "plt.figure(figsize=(9, 6))\n",
        "nx.draw(graph, pos, with_labels=False, node_size=25000, node_color='white', edge_color='gray', arrows=True, arrowsize=20, width=3, node_shape='s')\n",
        "\n",
        "# Function to format CPD tables as text with borders and node name as a heading\n",
        "def get_cpd_text(cpd, node_name):\n",
        "    if len(cpd.variables) == 1:  # If no evidence variables\n",
        "        df = pd.DataFrame(cpd.values,\n",
        "                          index=cpd.state_names[cpd.variable],\n",
        "                          columns=['P'])\n",
        "    else:  # If evidence variables exist\n",
        "        evidence_vars = cpd.variables[1:]\n",
        "        reshaped_values = cpd.values.reshape(-1, cpd.variable_card)\n",
        "        col_names = cpd.state_names[cpd.variable]\n",
        "        row_names = pd.MultiIndex.from_product([cpd.state_names[ev] for ev in evidence_vars], names=evidence_vars)\n",
        "        df = pd.DataFrame(reshaped_values, index=row_names, columns=col_names)\n",
        "\n",
        "    # Convert DataFrame to a table format with borders\n",
        "    table_text = df.to_markdown(tablefmt=\"grid\")\n",
        "\n",
        "    # Add node name as a heading\n",
        "    full_text = f\"**{node_name}**\\n{table_text}\"\n",
        "    return full_text\n",
        "\n",
        "# Add CPD tables inside the nodes with names as headings\n",
        "for var, cpd in zip([\"Diff\", \"Intel\", \"Grade\", \"Letter\", \"SAT\"], [cpd_d_sn, cpd_i_sn, cpd_g_sn, cpd_l_sn, cpd_s_sn]):\n",
        "    table_text = get_cpd_text(cpd, var)\n",
        "    x, y = pos[var]\n",
        "    plt.text(x, y, table_text, fontsize=7, ha='center', va='center',\n",
        "             bbox=dict(facecolor='white', edgecolor='black', boxstyle='round,pad=0.9'))\n",
        "\n",
        "# Show plot\n",
        "plt.show()"
      ],
      "metadata": {
        "colab": {
          "base_uri": "https://localhost:8080/",
          "height": 643
        },
        "id": "uft-RkNTOrme",
        "outputId": "3cb930fb-888a-46b6-debd-5703ccfbffb8"
      },
      "execution_count": 10,
      "outputs": [
        {
          "output_type": "display_data",
          "data": {
            "text/plain": [
              "<Figure size 900x600 with 1 Axes>"
            ],
            "image/png": "[encoded data removed]"
          },
          "metadata": {}
        }
      ]
    },
    {
      "cell_type": "markdown",
      "source": [
        "Now that we have looked at visualising graphical models. We get to the reason why they are useful in the first place. Specifically, we begin to explore inference techniques in Bayes Net's.\n",
        "\n",
        "## Inference\n",
        "\n",
        "Inference in Bayesian Networks involves calculating the probability of certain outcomes given some evidence. This process allows us to answer questions like \"What is the probability that a student is intelligent given that they received an 'A' grade?\" or \"How likely is it that the course was difficult if we know the student got a 'C' grade?\" Inference is one of the most powerful features of Bayesian Networks, as it enables reasoning under uncertainty by updating beliefs based on new evidence.\n",
        "\n",
        "\n",
        "### Types of Inference\n",
        "\n",
        "There are different types of inference that can be performed in a Bayesian Network:\n",
        "\n",
        "1. **Conditional Inference:** This involves calculating the probability of a variable given some observed evidence. For example, what is the probability that the student has a High intelligence (Intel=High) given that they got a B grade (Grade=B)?\n",
        "\n",
        "2. **Marginal Inference:** This involves calculating the probability of a particular variable without any evidence. For instance, in our Student Network, we might want to know the prior probability that a student gets a Letter of recommendation (P(Letter)), regardless of any other information.\n",
        "\n",
        "3. **MAP (Maximum A Posteriori)** Inference: This type of inference finds the most probable state of a set of variables given some evidence. In the Student Network, we might want to determine the most likely intelligence level (Intel) of a student given their Grade and SAT scores.\n",
        "\n",
        "\n",
        "pgmpy has a built in inference package which allows us to easily do inference in the graphs. We begin by importing this!"
      ],
      "metadata": {
        "id": "CSs3R9eJ9kck"
      }
    },
    {
      "cell_type": "code",
      "source": [
        "from pgmpy.inference import VariableElimination"
      ],
      "metadata": {
        "id": "XjE8l4LMbkGU"
      },
      "execution_count": 11,
      "outputs": []
    },
    {
      "cell_type": "markdown",
      "source": [
        "**VariableElimination** is a class, which is  provided by pgmpy, that implements the Variable Elimination algorithm for performing exact inference in Bayesian Networks. This is instantiated for our Bayesian model:"
      ],
      "metadata": {
        "id": "3zcqbUv-AqBS"
      }
    },
    {
      "cell_type": "code",
      "source": [
        "infer = VariableElimination(model)"
      ],
      "metadata": {
        "id": "az-U_e9w_dzc"
      },
      "execution_count": 12,
      "outputs": []
    },
    {
      "cell_type": "markdown",
      "source": [
        "### Calculating Conditional Probabilities\n",
        "\n",
        "In Bayesian Networks, calculating posterior probabilities is a key aspect of inference that allows us to update our beliefs about the state of a variable based on observed evidence. A posterior probability, such as P(Difficulty = Hard | Grade = C),  represents the probability that the course difficulty is Hard given that a student received a C grade. Posteriors can be calcualted as follows:"
      ],
      "metadata": {
        "id": "RKUPs541bqP1"
      }
    },
    {
      "cell_type": "code",
      "source": [
        "evidence = {\"Grade\": \"C\"}\n",
        "postD = infer.query([\"Diff\"], evidence=evidence).values\n",
        "postI = infer.query([\"Intel\"], evidence=evidence).values\n",
        "\n",
        "print(\"\\n\")\n",
        "print(\"Pr(Difficulty=Hard|Grade=C) = {:0.2f}\".format(postD[1]))\n",
        "print(\"Pr(Intelligence=High|Grade=C) = {:0.2f}\".format(postI[1]))"
      ],
      "metadata": {
        "id": "m2ljyxqxbuhq",
        "colab": {
          "base_uri": "https://localhost:8080/"
        },
        "outputId": "43eca0c2-71c8-449b-a87e-aa885b9438ee"
      },
      "execution_count": 13,
      "outputs": [
        {
          "output_type": "stream",
          "name": "stdout",
          "text": [
            "\n",
            "\n",
            "Pr(Difficulty=Hard|Grade=C) = 0.63\n",
            "Pr(Intelligence=High|Grade=C) = 0.08\n"
          ]
        }
      ]
    },
    {
      "cell_type": "markdown",
      "source": [
        "Try to calculate: P(Difficulty=Hard|Grade=C,SAT=Good) and P(Intelligence=High|Grade=C,SAT=Good) in the box below:"
      ],
      "metadata": {
        "id": "dKSfGX2JDcxy"
      }
    },
    {
      "cell_type": "code",
      "source": [
        "# Modify this box to print the probabilities\n",
        "evidence =\n",
        "postD =\n",
        "postI =\n",
        "\n",
        "print(\"\\n\")\n",
        "print(\"Pr(Difficulty=Hard|Grade=C,SAT=Good) = {:0.2f}\".format(postD[1]))\n",
        "print(\"Pr(Intelligence=High|Grade=C,SAT=Good) = {:0.2f}\".format(postI[1]))"
      ],
      "metadata": {
        "id": "OX5PvvtMbjgQ",
        "colab": {
          "base_uri": "https://localhost:8080/",
          "height": 105
        },
        "outputId": "a6409e8f-fecf-457a-9229-38e4c9906c95"
      },
      "execution_count": 15,
      "outputs": [
        {
          "output_type": "error",
          "ename": "SyntaxError",
          "evalue": "invalid syntax (<ipython-input-15-16e67505378f>, line 2)",
          "traceback": [
            "\u001b[0;36m  File \u001b[0;32m\"<ipython-input-15-16e67505378f>\"\u001b[0;36m, line \u001b[0;32m2\u001b[0m\n\u001b[0;31m    evidence =\u001b[0m\n\u001b[0m              ^\u001b[0m\n\u001b[0;31mSyntaxError\u001b[0m\u001b[0;31m:\u001b[0m invalid syntax\n"
          ]
        }
      ]
    },
    {
      "cell_type": "markdown",
      "source": [
        "### Calculating Marginal Probabilities"
      ],
      "metadata": {
        "id": "8NOq-0ocgm6j"
      }
    },
    {
      "cell_type": "markdown",
      "source": [
        "#### Marginal without evidence\n",
        "\n",
        "Marginal probability without evidence refers to the probability of a single variable in a Bayesian Network without considering any other information or observed evidence. It represents our belief about the possible states of a variable based solely on the prior information encoded in the network. For instance, in the Student example, we might be interested in calculating the probability distribution of the Grade variable across all possible grades (A, B, or C), regardless of other factors like Intelligence or Difficulty. This type of probability is useful for understanding the general tendencies in the model without any additional context. By computing marginal probabilities, we can answer questions such as \"What is the overall probability that a student will get a B grade?\" or \"How likely is it that a student will receive a letter of recommendation (Letter=Yes)?\"\n",
        "\n",
        "\n",
        "To calculate the marginal probability distribution of the grade variable, we can use the following the function:"
      ],
      "metadata": {
        "id": "v0Mi8Ld2dCDF"
      }
    },
    {
      "cell_type": "code",
      "source": [
        "# Calculate the marginal probability distribution of the 'Grade' variable\n",
        "marginal_grade = infer.query(variables=['Grade'])\n",
        "print(marginal_grade)"
      ],
      "metadata": {
        "colab": {
          "base_uri": "https://localhost:8080/"
        },
        "id": "VynLFtpNOnbJ",
        "outputId": "862ebd72-66e6-47d5-8224-e047a42a2a2b"
      },
      "execution_count": 14,
      "outputs": [
        {
          "output_type": "stream",
          "name": "stdout",
          "text": [
            "+----------+--------------+\n",
            "| Grade    |   phi(Grade) |\n",
            "+==========+==============+\n",
            "| Grade(A) |       0.3620 |\n",
            "+----------+--------------+\n",
            "| Grade(B) |       0.2884 |\n",
            "+----------+--------------+\n",
            "| Grade(C) |       0.3496 |\n",
            "+----------+--------------+\n"
          ]
        }
      ]
    },
    {
      "cell_type": "markdown",
      "source": [
        "Try to do this below for the SAT scores:"
      ],
      "metadata": {
        "id": "2Bm2OGjBOvpD"
      }
    },
    {
      "cell_type": "code",
      "source": [
        "# Calculate the marginal probability distribution of the 'SAT' variable\n",
        "marginal_grade =\n",
        "print(marginal_grade)"
      ],
      "metadata": {
        "id": "uhXsWUbNO5tz",
        "colab": {
          "base_uri": "https://localhost:8080/",
          "height": 105
        },
        "outputId": "8b89e49d-9c61-40cf-b28d-fd42ea78e750"
      },
      "execution_count": 15,
      "outputs": [
        {
          "output_type": "error",
          "ename": "SyntaxError",
          "evalue": "invalid syntax (<ipython-input-15-79c5cf6bc64f>, line 2)",
          "traceback": [
            "\u001b[0;36m  File \u001b[0;32m\"<ipython-input-15-79c5cf6bc64f>\"\u001b[0;36m, line \u001b[0;32m2\u001b[0m\n\u001b[0;31m    marginal_grade =\u001b[0m\n\u001b[0m                    ^\u001b[0m\n\u001b[0;31mSyntaxError\u001b[0m\u001b[0;31m:\u001b[0m invalid syntax\n"
          ]
        }
      ]
    },
    {
      "cell_type": "code",
      "source": [
        "# Model sols (Remove before publishing):\n",
        "marginal_grade = infer.query(variables=['Grade'])\n",
        "print(marginal_grade)"
      ],
      "metadata": {
        "id": "vAwubxYbQXJh",
        "colab": {
          "base_uri": "https://localhost:8080/"
        },
        "outputId": "b688e002-87c4-45be-c8a9-c11618667a7d"
      },
      "execution_count": 16,
      "outputs": [
        {
          "output_type": "stream",
          "name": "stdout",
          "text": [
            "+----------+--------------+\n",
            "| Grade    |   phi(Grade) |\n",
            "+==========+==============+\n",
            "| Grade(A) |       0.3620 |\n",
            "+----------+--------------+\n",
            "| Grade(B) |       0.2884 |\n",
            "+----------+--------------+\n",
            "| Grade(C) |       0.3496 |\n",
            "+----------+--------------+\n"
          ]
        }
      ]
    },
    {
      "cell_type": "code",
      "source": [
        "import networkx as nx\n",
        "import matplotlib.pyplot as plt\n",
        "import pandas as pd\n",
        "\n",
        "# Create directed graph\n",
        "G = nx.DiGraph(model.edges())\n",
        "\n",
        "# Define node positions\n",
        "pos = {\n",
        "    \"Diff\": (0, 0),\n",
        "    \"Intel\": (2, 0),\n",
        "    \"Grade\": (1, 2),\n",
        "    \"Letter\": (0, 4),\n",
        "    \"SAT\": (2, 4),\n",
        "}\n",
        "\n",
        "# Draw the graph (without labels inside nodes)\n",
        "plt.figure(figsize=(9, 6))\n",
        "nx.draw(G, pos, with_labels=False, node_size=20000, node_color='white',\n",
        "        edge_color='gray', arrows=True, arrowsize=20, width=3, node_shape='s')\n",
        "\n",
        "# Query all required marginals\n",
        "marginals = {\n",
        "    \"Diff\": infer.query(variables=[\"Diff\"]),\n",
        "    \"Intel\": infer.query(variables=[\"Intel\"]),\n",
        "    \"Grade\": infer.query(variables=[\"Grade\"]),  # Explicitly fetch Grade\n",
        "    \"Letter\": infer.query(variables=[\"Letter\"]),\n",
        "    \"SAT\": infer.query(variables=[\"SAT\"]),\n",
        "}\n",
        "\n",
        "# Function to format CPD tables as markdown text\n",
        "def format_cpd_table(var_name, marginal_df):\n",
        "    if marginal_df is None:\n",
        "        return f\"**{var_name}**\\nNo data available\"\n",
        "\n",
        "    states = marginal_df.state_names[var_name]\n",
        "    values = marginal_df.values.flatten().round(3)\n",
        "    df = pd.DataFrame({'State': states, 'P': values})\n",
        "\n",
        "    table_text = df.to_markdown(index=False, tablefmt=\"grid\")  # Grid format for clarity\n",
        "    return f\"**{var_name}**\\n{table_text}\"  # Add node name as heading\n",
        "\n",
        "# Add CPD tables inside the nodes\n",
        "for node in G.nodes():\n",
        "    marginal = marginals.get(node, None)  # Use stored marginals\n",
        "    table_text = format_cpd_table(node, marginal)\n",
        "\n",
        "    x, y = pos[node]\n",
        "    plt.text(x, y, table_text, fontsize=7, ha='center', va='center',\n",
        "             bbox=dict(facecolor='white', edgecolor='black', boxstyle='round,pad=0.9'))\n",
        "\n",
        "# Show the plot\n",
        "plt.show()\n"
      ],
      "metadata": {
        "colab": {
          "base_uri": "https://localhost:8080/",
          "height": 636
        },
        "id": "Ij0uWZMfG2DS",
        "outputId": "83192299-55a0-4e32-ba0b-47ff27bdb3a8"
      },
      "execution_count": 17,
      "outputs": [
        {
          "output_type": "display_data",
          "data": {
            "text/plain": [
              "<Figure size 900x600 with 1 Axes>"
            ],
            "image/png": "[encoded data removed]"
          },
          "metadata": {}
        }
      ]
    },
    {
      "cell_type": "markdown",
      "source": [
        "#### Marginal with evidence\n",
        "\n",
        "Marginal probability with evidence involves calculating the probability distribution of a variable while taking into account observed evidence for other variables. This type of probability reflects our updated belief about a variable given that certain pieces of information are known. For instance, in the Student example, if we want to compute the marginal probability of the Difficulty variable given that a student received a C grade, we would calculate P(Difficulty∣Grade=C). This process involves updating the network with the observed evidence (Grade = C) and then computing the marginal probability for Difficulty. By considering the evidence, we refine our understanding of the probability distribution for the variable of interest, providing insights into how the observed data influences our beliefs about the other variables.\n",
        "\n",
        "To calculate the Marginal porbability of Difficulty given Grade = A:"
      ],
      "metadata": {
        "id": "12WfYw0OdWDU"
      }
    },
    {
      "cell_type": "code",
      "source": [
        "marginal_difficulty = infer.query(variables=['Diff'], evidence={'Grade': 'A'})\n",
        "print(marginal_difficulty)"
      ],
      "metadata": {
        "colab": {
          "base_uri": "https://localhost:8080/"
        },
        "id": "PLnz_1vgP5ly",
        "outputId": "e5edf547-77a6-459c-de86-6504c06f726d"
      },
      "execution_count": 18,
      "outputs": [
        {
          "output_type": "stream",
          "name": "stdout",
          "text": [
            "+------------+-------------+\n",
            "| Diff       |   phi(Diff) |\n",
            "+============+=============+\n",
            "| Diff(Easy) |      0.7956 |\n",
            "+------------+-------------+\n",
            "| Diff(Hard) |      0.2044 |\n",
            "+------------+-------------+\n"
          ]
        }
      ]
    },
    {
      "cell_type": "markdown",
      "source": [
        "Now try to calculate the marginal of SAT given Grade = B."
      ],
      "metadata": {
        "id": "sjRMG0pPP-H_"
      }
    },
    {
      "cell_type": "code",
      "source": [
        "# Answer here\n",
        "marginal_difficulty =\n",
        "print(marginal_difficulty)"
      ],
      "metadata": {
        "id": "vGzsl79QQH2G",
        "colab": {
          "base_uri": "https://localhost:8080/",
          "height": 105
        },
        "outputId": "f0e93698-67f6-469f-e4fd-9505f58c6ae7"
      },
      "execution_count": 19,
      "outputs": [
        {
          "output_type": "error",
          "ename": "SyntaxError",
          "evalue": "invalid syntax (<ipython-input-19-d4f27ec9027c>, line 2)",
          "traceback": [
            "\u001b[0;36m  File \u001b[0;32m\"<ipython-input-19-d4f27ec9027c>\"\u001b[0;36m, line \u001b[0;32m2\u001b[0m\n\u001b[0;31m    marginal_difficulty =\u001b[0m\n\u001b[0m                         ^\u001b[0m\n\u001b[0;31mSyntaxError\u001b[0m\u001b[0;31m:\u001b[0m invalid syntax\n"
          ]
        }
      ]
    },
    {
      "cell_type": "markdown",
      "source": [
        "Similarly to before, this can be verified and visualised using the pgm package. Check that your answer matches the output below:"
      ],
      "metadata": {
        "id": "AoK0g2AHQlrw"
      }
    },
    {
      "cell_type": "code",
      "source": [
        "# Model sols (Remove before publishing):\n",
        "marginal_grade_A_difficulty = infer.query(variables=['Diff'], evidence={'Grade': 'A'})\n",
        "print(marginal_grade_A_difficulty)"
      ],
      "metadata": {
        "colab": {
          "base_uri": "https://localhost:8080/"
        },
        "id": "t5CeeNBSsxN9",
        "outputId": "1a94e51a-2c61-44a0-a996-7eabb54bcc1b"
      },
      "execution_count": 20,
      "outputs": [
        {
          "output_type": "stream",
          "name": "stdout",
          "text": [
            "+------------+-------------+\n",
            "| Diff       |   phi(Diff) |\n",
            "+============+=============+\n",
            "| Diff(Easy) |      0.7956 |\n",
            "+------------+-------------+\n",
            "| Diff(Hard) |      0.2044 |\n",
            "+------------+-------------+\n"
          ]
        }
      ]
    },
    {
      "cell_type": "code",
      "source": [
        "# Define evidence\n",
        "evidence = {'Grade': 'C'}\n",
        "\n",
        "# Compute marginals for all variables except Grade\n",
        "marginals = {\n",
        "    'Diff': infer.query(variables=['Diff'], evidence=evidence),\n",
        "    'Intel': infer.query(variables=['Intel'], evidence=evidence),\n",
        "    'SAT': infer.query(variables=['SAT'], evidence=evidence),\n",
        "    'Letter': infer.query(variables=['Letter'], evidence=evidence)\n",
        "}"
      ],
      "metadata": {
        "id": "gov9RLCFtCQw"
      },
      "execution_count": 21,
      "outputs": []
    },
    {
      "cell_type": "code",
      "source": [
        "import matplotlib.pyplot as plt\n",
        "\n",
        "# Create subplots (2x2 for the 4 variables + 1 for Grade evidence)\n",
        "fig, axes = plt.subplots(nrows=2, ncols=3, figsize=(15, 10))\n",
        "axes = axes.ravel()\n",
        "\n",
        "# Plot distributions for non-evidence variables\n",
        "for idx, (var_name, marginal) in enumerate(marginals.items()):\n",
        "    ax = axes[idx]\n",
        "    states = marginal.state_names[var_name]\n",
        "    values = marginal.values\n",
        "\n",
        "    # Bar plot\n",
        "    bars = ax.bar(states, values.flatten(), color='skyblue')\n",
        "\n",
        "    # Add probability labels\n",
        "    for bar in bars:\n",
        "        height = bar.get_height()\n",
        "        ax.text(bar.get_x() + bar.get_width()/2., height,\n",
        "                f'{height:.2f}',\n",
        "                ha='center', va='bottom')\n",
        "\n",
        "    # Format\n",
        "    ax.set_title(f'Marginal of {var_name} | Grade=C', fontsize=10)\n",
        "    ax.set_ylabel('Probability')\n",
        "    ax.set_ylim(0, 1)\n",
        "    ax.grid(axis='y', linestyle='--', alpha=0.7)\n",
        "\n",
        "# Add Grade as evidence (fixed value)\n",
        "ax_grade = axes[4]\n",
        "ax_grade.bar(['C'], [1.0], color='lightcoral')\n",
        "ax_grade.set_title('Grade (Evidence)', fontsize=10)\n",
        "ax_grade.set_ylabel('Probability')\n",
        "ax_grade.set_ylim(0, 1)\n",
        "ax_grade.grid(axis='y', linestyle='--', alpha=0.7)\n",
        "\n",
        "# Remove unused subplots\n",
        "fig.delaxes(axes[5])\n",
        "\n",
        "plt.tight_layout()\n",
        "plt.show()"
      ],
      "metadata": {
        "id": "i-cr-YJOdEVY",
        "colab": {
          "base_uri": "https://localhost:8080/",
          "height": 1000
        },
        "outputId": "dbdd6dec-2304-4dd7-b1af-b4e10420a9c2"
      },
      "execution_count": 22,
      "outputs": [
        {
          "output_type": "display_data",
          "data": {
            "text/plain": [
              "<Figure size 1500x1000 with 5 Axes>"
            ],
            "image/png": "[encoded data removed]"
          },
          "metadata": {}
        }
      ]
    },
    {
      "cell_type": "code",
      "source": [
        "# Create directed graph\n",
        "G = nx.DiGraph(model.edges())\n",
        "\n",
        "# Adjusted node positions\n",
        "pos = {\n",
        "    \"Diff\": (0, 0.5),\n",
        "    \"Intel\": (2, 0.5),\n",
        "    \"Grade\": (1, 3.5),\n",
        "    \"Letter\": (0, 6),\n",
        "    \"SAT\": (2, 6),\n",
        "}\n",
        "\n",
        "plt.figure(figsize=(14, 10))\n",
        "\n",
        "# Draw edges only (no nodes)\n",
        "nx.draw(G, pos, with_labels=False, node_size=20000, node_color='white',\n",
        "        edge_color='gray', arrows=True, arrowsize=20, width=3, node_shape='s')\n",
        "\n",
        "# Function to create table text\n",
        "def create_table(var_name, marginal_df, is_evidence=False):\n",
        "    if marginal_df is None:\n",
        "        df = pd.DataFrame({'State': ['C'], 'P': [1.0]})  # Evidence: Grade = C\n",
        "    else:\n",
        "        states = marginal_df.state_names[var_name]\n",
        "        values = marginal_df.values.flatten().round(3)\n",
        "        df = pd.DataFrame({'State': states, 'P': values})\n",
        "\n",
        "    title = f\"**{var_name}**\" if not is_evidence else f\"**{var_name} (Evidence)**\"\n",
        "    return f\"{title}\\n{df.to_markdown(index=False, tablefmt='grid')}\"  # Grid format\n",
        "\n",
        "# Add tables at node positions\n",
        "for node in G.nodes():\n",
        "    is_evidence = (node == \"Grade\")  # Mark Grade node as evidence\n",
        "    marginal = marginals.get(node, None)  # Get marginal or return None for missing keys\n",
        "    table_text = create_table(node, marginal, is_evidence=is_evidence)\n",
        "\n",
        "    x, y = pos[node]\n",
        "\n",
        "    plt.text(x, y, table_text, fontsize=8, ha='center', va='center',\n",
        "             bbox=dict(facecolor='white', edgecolor='black', boxstyle='round,pad=0.5', alpha=0.9))\n",
        "\n",
        "# Add evidence banner\n",
        "plt.text(0.85, 4.5, \"Evidence: Grade = C\", fontsize=12,\n",
        "         bbox=dict(facecolor='lightcoral', alpha=0.5))\n",
        "\n",
        "plt.show()"
      ],
      "metadata": {
        "colab": {
          "base_uri": "https://localhost:8080/",
          "height": 1000
        },
        "id": "gyR0aIQVISED",
        "outputId": "7529544a-6689-42a0-e0b7-f9c1469c77a6"
      },
      "execution_count": 23,
      "outputs": [
        {
          "output_type": "display_data",
          "data": {
            "text/plain": [
              "<Figure size 1400x1000 with 1 Axes>"
            ],
            "image/png": "[encoded data removed]"
          },
          "metadata": {}
        }
      ]
    },
    {
      "cell_type": "markdown",
      "source": [
        "Try to calculate the marginal for Difficulty with evidence Grade = C and SAT = Good."
      ],
      "metadata": {
        "id": "VvnMGUy-Q4Kg"
      }
    },
    {
      "cell_type": "code",
      "source": [
        "# Calculate the margional for Difficulty with both Grade and SAT as evidence\n",
        "\n",
        "# Verify your answer\n",
        "\n",
        "# Visualise the marginals\n"
      ],
      "metadata": {
        "id": "5-cerzZfRU3E"
      },
      "execution_count": 24,
      "outputs": []
    },
    {
      "cell_type": "markdown",
      "source": [
        "### MAP (Maximum A Posteriori) in Bayes Net's\n",
        "\n",
        "MAP inference is a method used in Bayesian Networks to find the most probable state of a set of variables given some observed evidence. Unlike marginal probability, which gives the probability distribution of a variable, MAP inference focuses on identifying the specific values of variables that maximize the posterior probability. Essentially, it helps us determine the most likely configuration of variables given the evidence we have. This is particularly useful for making decisions or predictions based on the observed data.\n",
        "\n",
        "Below, there is an example which finds the most likely difficulty given the grade is A:"
      ],
      "metadata": {
        "id": "o3ydb3p5S2oG"
      }
    },
    {
      "cell_type": "code",
      "source": [
        "# Perform MAP inference\n",
        "map_diff_given_grade_a = infer.map_query(variables=['Diff'], evidence={'Grade': 'A'})\n",
        "print(\"Most likely difficulty given Grade = A:\", map_diff_given_grade_a)"
      ],
      "metadata": {
        "colab": {
          "base_uri": "https://localhost:8080/",
          "height": 98,
          "referenced_widgets": [
            "81c4c0a8ac63460f923c3b2b6a46e175",
            "f9062ac5b1654c8eb872f834c5080bda",
            "779607a2a6c34092839187c2242daf5f",
            "0e1564f613d7485da7131a69e84ff411",
            "9e257c40d1114ccba67c2d7b9b865753",
            "419cc41635594a21829c4287cdc913d9",
            "92944dabea804262b899fdc25a2c08b4",
            "5102fcb59b014d888b053fa5a512aa94",
            "8b3099c85eb54632b0555a384bb1ccc4",
            "8c850af5dbc64ba2b80003750c4a1afc",
            "c1899f4d4d874166804b98f6f09965d7",
            "a442f50025f644f9beb754733b78e05e",
            "ebc7916c00c2413cad2b9d9598b43a8f",
            "67af91260963446984e34dd5f5c94c22",
            "98329d1d9154471aa112efdfb7d0450c",
            "cc4cf11564264e3486805c0b2faf7ac3",
            "085126a882e84e3ab3cbc34326ced965",
            "dea7c890c5024cbb991b067be882a2a6",
            "7f688c72013b41dfa7c7ab53c4357769",
            "3dc43ee1c48d46bba5c8942199bb41f6",
            "54f99480c2f146ba8f3a976ed459a1cb",
            "026c1c73e5b04a53aa1b371a7b510588"
          ]
        },
        "id": "_M1tap2-T_BS",
        "outputId": "c239fc52-a3ac-4cec-d494-41f05943a8b0"
      },
      "execution_count": 25,
      "outputs": [
        {
          "output_type": "display_data",
          "data": {
            "text/plain": [
              "  0%|          | 0/1 [00:00<?, ?it/s]"
            ],
            "application/vnd.jupyter.widget-view+json": {
              "version_major": 2,
              "version_minor": 0,
              "model_id": "81c4c0a8ac63460f923c3b2b6a46e175"
            }
          },
          "metadata": {}
        },
        {
          "output_type": "display_data",
          "data": {
            "text/plain": [
              "  0%|          | 0/1 [00:00<?, ?it/s]"
            ],
            "application/vnd.jupyter.widget-view+json": {
              "version_major": 2,
              "version_minor": 0,
              "model_id": "a442f50025f644f9beb754733b78e05e"
            }
          },
          "metadata": {}
        },
        {
          "output_type": "stream",
          "name": "stdout",
          "text": [
            "Most likely difficulty given Grade = A: {'Diff': 'Easy'}\n"
          ]
        }
      ]
    },
    {
      "cell_type": "markdown",
      "source": [
        "Try to have a go at finding the most probable difficulty and inteligence given grade=B and SAT=High"
      ],
      "metadata": {
        "id": "QGtBKSjVULny"
      }
    },
    {
      "cell_type": "code",
      "source": [
        "# Perform MAP inference\n",
        "map_vars_given_evidence =\n",
        "print(\"Most likely Intelligence given Grade = B\", map_vars_given_evidence)\n"
      ],
      "metadata": {
        "id": "qZleNJ6AUYtf",
        "colab": {
          "base_uri": "https://localhost:8080/",
          "height": 105
        },
        "outputId": "5f2b6d27-5442-4022-ad25-99a1a46da771"
      },
      "execution_count": 26,
      "outputs": [
        {
          "output_type": "error",
          "ename": "SyntaxError",
          "evalue": "invalid syntax (<ipython-input-26-a35bb88958c7>, line 2)",
          "traceback": [
            "\u001b[0;36m  File \u001b[0;32m\"<ipython-input-26-a35bb88958c7>\"\u001b[0;36m, line \u001b[0;32m2\u001b[0m\n\u001b[0;31m    map_vars_given_evidence =\u001b[0m\n\u001b[0m                             ^\u001b[0m\n\u001b[0;31mSyntaxError\u001b[0m\u001b[0;31m:\u001b[0m invalid syntax\n"
          ]
        }
      ]
    },
    {
      "cell_type": "code",
      "source": [
        "# Model sols (Remove before publishing):\n",
        "# Perform MAP inference\n",
        "map_vars_given_evidence = infer.map_query(variables=['Intel'], evidence={'Grade': 'B'})\n",
        "print(\"Most likely Intelligence given Grade = B\", map_vars_given_evidence)\n"
      ],
      "metadata": {
        "colab": {
          "base_uri": "https://localhost:8080/",
          "height": 98,
          "referenced_widgets": [
            "8229807121f74eee9abbc3a43d336773",
            "d9595025951846dfae9f6a0c9035ad43",
            "c031cacd37ee49cfbc8a12fc8356a6d8",
            "ac9b242bb4d743678a341556ee3e7711",
            "f6297384cf2c4d1c82f5956f7147a141",
            "edab251243ff48dfa517549502cd7f73",
            "844fbfa979cd48609a32c2b98ad0c51d",
            "06864ec8b07e44208ce99f26750c0050",
            "d012a48a1fd543efb06c217b5c5735a0",
            "ffab8bf50c6d4765be9e2a424164f1c2",
            "346bbad9e4814b338d45ea5b580ae483",
            "a3d3b6f8e8ab4a0683dc18ee951d5c86",
            "69eb39c744704150bd1f50a2877566e0",
            "2ade9e28ec6543d880954e5a82da40f7",
            "7a21f28e223641d58cf8378b0655c11f",
            "48e59bcddc8042b986c163dfd4c8501c",
            "0d32e42db3904a6eb7d0185f81e7a1ef",
            "07470224fabc42b3ac3978a498bba65f",
            "1bee82ba8eb9484e9d92797af14fa1af",
            "1fdb2f7ad28c4afab2fb8a6e3b84deaa",
            "90837aece4e344fabdb996cf1f01fd3a",
            "d64b3248defa4700b90235c2ea3ea550"
          ]
        },
        "id": "ctcZfqjMUS2h",
        "outputId": "5500a7f4-7a8b-4b52-9727-44693818a780"
      },
      "execution_count": 27,
      "outputs": [
        {
          "output_type": "display_data",
          "data": {
            "text/plain": [
              "  0%|          | 0/1 [00:00<?, ?it/s]"
            ],
            "application/vnd.jupyter.widget-view+json": {
              "version_major": 2,
              "version_minor": 0,
              "model_id": "8229807121f74eee9abbc3a43d336773"
            }
          },
          "metadata": {}
        },
        {
          "output_type": "display_data",
          "data": {
            "text/plain": [
              "  0%|          | 0/1 [00:00<?, ?it/s]"
            ],
            "application/vnd.jupyter.widget-view+json": {
              "version_major": 2,
              "version_minor": 0,
              "model_id": "a3d3b6f8e8ab4a0683dc18ee951d5c86"
            }
          },
          "metadata": {}
        },
        {
          "output_type": "stream",
          "name": "stdout",
          "text": [
            "Most likely Intelligence given Grade = B {'Intel': 'Low'}\n"
          ]
        }
      ]
    },
    {
      "cell_type": "markdown",
      "source": [
        "## Learning Parameters in Bayesian Networks\n",
        "\n",
        "\n",
        "In Bayesian Networks, parameter learning refers to the process of estimating the Conditional Probability Distributions (CPDs) based on data. These parameters define how the probability of each variable depends on its parents in the network. Learning the parameters is crucial for building accurate models that reflect real-world data. There are two main approaches to parameter learning:\n",
        "\n",
        "1. **Maximum Likelihood Estimation (MLE)**: This approach estimates the parameters by maximizing the likelihood of the observed data given the model. MLE is typically used when you have a complete dataset and want to find the parameters that best fit this data.\n",
        "\n",
        "2. **Bayesian Estimation**: This approach incorporates prior distributions on the parameters and updates these priors based on the observed data to obtain posterior distributions. Bayesian Estimation is useful when you have prior beliefs about the parameters and want to refine these beliefs with data."
      ],
      "metadata": {
        "id": "Bd2PdpDug6Qi"
      }
    },
    {
      "cell_type": "markdown",
      "source": [
        "### **Maximum Likelihood Paramter Estimation**\n",
        "\n",
        "Maximum Likelihood Estimation estimates the parameters of a Bayesian Network by finding the parameter values that maximize the likelihood of the observed data. In other words, MLE chooses the parameters that make the observed data most probable under the model.\n",
        "\n",
        "We begin by generating a dataset for the student model:"
      ],
      "metadata": {
        "id": "qkQfUsgX1rZG"
      }
    },
    {
      "cell_type": "code",
      "source": [
        "from pgmpy.sampling import BayesianModelSampling\n",
        "samples = BayesianModelSampling(model).forward_sample(size=int(1e5))"
      ],
      "metadata": {
        "colab": {
          "base_uri": "https://localhost:8080/",
          "height": 49,
          "referenced_widgets": [
            "b71d35ab41a148388e6929b49c7f5e5b",
            "9cf07bd2d3564df08f8f8f2133265ea0",
            "3e7e1346aec44fe0961b786c1bf14410",
            "faf4bcb3b9cc4c9993234730ae9967ee",
            "a2fa938d935a415d824b1127c3f800f8",
            "6be35cf0bd4a4236b0fef1914d41094b",
            "d529f8a6663043118cdf60c08cbb1e4b",
            "25ddea0c95914b3ca2aec3d40e778c6b",
            "bf9ffe941b984bbea4f7232bf4aafdf6",
            "66efdf4f32aa4eae9ffc67076f8beb8c",
            "336135b222ae4376b4bbcb252716f221"
          ]
        },
        "id": "o3ULe1yb1tcC",
        "outputId": "e2864530-e097-4131-a8d2-eb8ec50bfd37"
      },
      "execution_count": 28,
      "outputs": [
        {
          "output_type": "display_data",
          "data": {
            "text/plain": [
              "  0%|          | 0/5 [00:00<?, ?it/s]"
            ],
            "application/vnd.jupyter.widget-view+json": {
              "version_major": 2,
              "version_minor": 0,
              "model_id": "b71d35ab41a148388e6929b49c7f5e5b"
            }
          },
          "metadata": {}
        }
      ]
    },
    {
      "cell_type": "markdown",
      "source": [
        "We can visualise some of the data using the head() function."
      ],
      "metadata": {
        "id": "AzwGZgyQawoW"
      }
    },
    {
      "cell_type": "code",
      "source": [
        "samples.head()"
      ],
      "metadata": {
        "colab": {
          "base_uri": "https://localhost:8080/",
          "height": 204
        },
        "id": "HU51GdyZavvn",
        "outputId": "4e95a5d3-6d84-4efe-f8d9-2124e80bc98f"
      },
      "execution_count": 29,
      "outputs": [
        {
          "output_type": "execute_result",
          "data": {
            "text/plain": [
              "   Diff Grade Intel Letter   SAT\n",
              "0  Hard     C   Low    Bad   Bad\n",
              "1  Hard     A  High   Good  Good\n",
              "2  Easy     C   Low    Bad   Bad\n",
              "3  Hard     C   Low    Bad   Bad\n",
              "4  Easy     A  High   Good   Bad"
            ],
            "text/html": [
              "\n",
              "  <div id=\"df-4799cd04-4289-4cc6-b07b-39a4f819446a\" class=\"colab-df-container\">\n",
              "    <div>\n",
              "<style scoped>\n",
              "    .dataframe tbody tr th:only-of-type {\n",
              "        vertical-align: middle;\n",
              "    }\n",
              "\n",
              "    .dataframe tbody tr th {\n",
              "        vertical-align: top;\n",
              "    }\n",
              "\n",
              "    .dataframe thead th {\n",
              "        text-align: right;\n",
              "    }\n",
              "</style>\n",
              "<table border=\"1\" class=\"dataframe\">\n",
              "  <thead>\n",
              "    <tr style=\"text-align: right;\">\n",
              "      <th></th>\n",
              "      <th>Diff</th>\n",
              "      <th>Grade</th>\n",
              "      <th>Intel</th>\n",
              "      <th>Letter</th>\n",
              "      <th>SAT</th>\n",
              "    </tr>\n",
              "  </thead>\n",
              "  <tbody>\n",
              "    <tr>\n",
              "      <th>0</th>\n",
              "      <td>Hard</td>\n",
              "      <td>C</td>\n",
              "      <td>Low</td>\n",
              "      <td>Bad</td>\n",
              "      <td>Bad</td>\n",
              "    </tr>\n",
              "    <tr>\n",
              "      <th>1</th>\n",
              "      <td>Hard</td>\n",
              "      <td>A</td>\n",
              "      <td>High</td>\n",
              "      <td>Good</td>\n",
              "      <td>Good</td>\n",
              "    </tr>\n",
              "    <tr>\n",
              "      <th>2</th>\n",
              "      <td>Easy</td>\n",
              "      <td>C</td>\n",
              "      <td>Low</td>\n",
              "      <td>Bad</td>\n",
              "      <td>Bad</td>\n",
              "    </tr>\n",
              "    <tr>\n",
              "      <th>3</th>\n",
              "      <td>Hard</td>\n",
              "      <td>C</td>\n",
              "      <td>Low</td>\n",
              "      <td>Bad</td>\n",
              "      <td>Bad</td>\n",
              "    </tr>\n",
              "    <tr>\n",
              "      <th>4</th>\n",
              "      <td>Easy</td>\n",
              "      <td>A</td>\n",
              "      <td>High</td>\n",
              "      <td>Good</td>\n",
              "      <td>Bad</td>\n",
              "    </tr>\n",
              "  </tbody>\n",
              "</table>\n",
              "</div>\n",
              "    <div class=\"colab-df-buttons\">\n",
              "\n",
              "  <div class=\"colab-df-container\">\n",
              "    <button class=\"colab-df-convert\" onclick=\"convertToInteractive('df-4799cd04-4289-4cc6-b07b-39a4f819446a')\"\n",
              "            title=\"Convert this dataframe to an interactive table.\"\n",
              "            style=\"display:none;\">\n",
              "\n",
              "  <svg xmlns=\"http://www.w3.org/2000/svg\" height=\"24px\" viewBox=\"0 -960 960 960\">\n",
              "    <path d=\"M120-120v-720h720v720H120Zm60-500h600v-160H180v160Zm220 220h160v-160H400v160Zm0 220h160v-160H400v160ZM180-400h160v-160H180v160Zm440 0h160v-160H620v160ZM180-180h160v-160H180v160Zm440 0h160v-160H620v160Z\"/>\n",
              "  </svg>\n",
              "    </button>\n",
              "\n",
              "  <style>\n",
              "    .colab-df-container {\n",
              "      display:flex;\n",
              "      gap: 12px;\n",
              "    }\n",
              "\n",
              "    .colab-df-convert {\n",
              "      background-color: #E8F0FE;\n",
              "      border: none;\n",
              "      border-radius: 50%;\n",
              "      cursor: pointer;\n",
              "      display: none;\n",
              "      fill: #1967D2;\n",
              "      height: 32px;\n",
              "      padding: 0 0 0 0;\n",
              "      width: 32px;\n",
              "    }\n",
              "\n",
              "    .colab-df-convert:hover {\n",
              "      background-color: #E2EBFA;\n",
              "      box-shadow: 0px 1px 2px rgba(60, 64, 67, 0.3), 0px 1px 3px 1px rgba(60, 64, 67, 0.15);\n",
              "      fill: #174EA6;\n",
              "    }\n",
              "\n",
              "    .colab-df-buttons div {\n",
              "      margin-bottom: 4px;\n",
              "    }\n",
              "\n",
              "    [theme=dark] .colab-df-convert {\n",
              "      background-color: #3B4455;\n",
              "      fill: #D2E3FC;\n",
              "    }\n",
              "\n",
              "    [theme=dark] .colab-df-convert:hover {\n",
              "      background-color: #434B5C;\n",
              "      box-shadow: 0px 1px 3px 1px rgba(0, 0, 0, 0.15);\n",
              "      filter: drop-shadow(0px 1px 2px rgba(0, 0, 0, 0.3));\n",
              "      fill: #FFFFFF;\n",
              "    }\n",
              "  </style>\n",
              "\n",
              "    <script>\n",
              "      const buttonEl =\n",
              "        document.querySelector('#df-4799cd04-4289-4cc6-b07b-39a4f819446a button.colab-df-convert');\n",
              "      buttonEl.style.display =\n",
              "        google.colab.kernel.accessAllowed ? 'block' : 'none';\n",
              "\n",
              "      async function convertToInteractive(key) {\n",
              "        const element = document.querySelector('#df-4799cd04-4289-4cc6-b07b-39a4f819446a');\n",
              "        const dataTable =\n",
              "          await google.colab.kernel.invokeFunction('convertToInteractive',\n",
              "                                                    [key], {});\n",
              "        if (!dataTable) return;\n",
              "\n",
              "        const docLinkHtml = 'Like what you see? Visit the ' +\n",
              "          '<a target=\"_blank\" href=https://colab.research.google.com/notebooks/data_table.ipynb>data table notebook</a>'\n",
              "          + ' to learn more about interactive tables.';\n",
              "        element.innerHTML = '';\n",
              "        dataTable['output_type'] = 'display_data';\n",
              "        await google.colab.output.renderOutput(dataTable, element);\n",
              "        const docLink = document.createElement('div');\n",
              "        docLink.innerHTML = docLinkHtml;\n",
              "        element.appendChild(docLink);\n",
              "      }\n",
              "    </script>\n",
              "  </div>\n",
              "\n",
              "\n",
              "<div id=\"df-3ee7ca66-ad5d-41a5-95f5-28772e75aad9\">\n",
              "  <button class=\"colab-df-quickchart\" onclick=\"quickchart('df-3ee7ca66-ad5d-41a5-95f5-28772e75aad9')\"\n",
              "            title=\"Suggest charts\"\n",
              "            style=\"display:none;\">\n",
              "\n",
              "<svg xmlns=\"http://www.w3.org/2000/svg\" height=\"24px\"viewBox=\"0 0 24 24\"\n",
              "     width=\"24px\">\n",
              "    <g>\n",
              "        <path d=\"M19 3H5c-1.1 0-2 .9-2 2v14c0 1.1.9 2 2 2h14c1.1 0 2-.9 2-2V5c0-1.1-.9-2-2-2zM9 17H7v-7h2v7zm4 0h-2V7h2v10zm4 0h-2v-4h2v4z\"/>\n",
              "    </g>\n",
              "</svg>\n",
              "  </button>\n",
              "\n",
              "<style>\n",
              "  .colab-df-quickchart {\n",
              "      --bg-color: #E8F0FE;\n",
              "      --fill-color: #1967D2;\n",
              "      --hover-bg-color: #E2EBFA;\n",
              "      --hover-fill-color: #174EA6;\n",
              "      --disabled-fill-color: #AAA;\n",
              "      --disabled-bg-color: #DDD;\n",
              "  }\n",
              "\n",
              "  [theme=dark] .colab-df-quickchart {\n",
              "      --bg-color: #3B4455;\n",
              "      --fill-color: #D2E3FC;\n",
              "      --hover-bg-color: #434B5C;\n",
              "      --hover-fill-color: #FFFFFF;\n",
              "      --disabled-bg-color: #3B4455;\n",
              "      --disabled-fill-color: #666;\n",
              "  }\n",
              "\n",
              "  .colab-df-quickchart {\n",
              "    background-color: var(--bg-color);\n",
              "    border: none;\n",
              "    border-radius: 50%;\n",
              "    cursor: pointer;\n",
              "    display: none;\n",
              "    fill: var(--fill-color);\n",
              "    height: 32px;\n",
              "    padding: 0;\n",
              "    width: 32px;\n",
              "  }\n",
              "\n",
              "  .colab-df-quickchart:hover {\n",
              "    background-color: var(--hover-bg-color);\n",
              "    box-shadow: 0 1px 2px rgba(60, 64, 67, 0.3), 0 1px 3px 1px rgba(60, 64, 67, 0.15);\n",
              "    fill: var(--button-hover-fill-color);\n",
              "  }\n",
              "\n",
              "  .colab-df-quickchart-complete:disabled,\n",
              "  .colab-df-quickchart-complete:disabled:hover {\n",
              "    background-color: var(--disabled-bg-color);\n",
              "    fill: var(--disabled-fill-color);\n",
              "    box-shadow: none;\n",
              "  }\n",
              "\n",
              "  .colab-df-spinner {\n",
              "    border: 2px solid var(--fill-color);\n",
              "    border-color: transparent;\n",
              "    border-bottom-color: var(--fill-color);\n",
              "    animation:\n",
              "      spin 1s steps(1) infinite;\n",
              "  }\n",
              "\n",
              "  @keyframes spin {\n",
              "    0% {\n",
              "      border-color: transparent;\n",
              "      border-bottom-color: var(--fill-color);\n",
              "      border-left-color: var(--fill-color);\n",
              "    }\n",
              "    20% {\n",
              "      border-color: transparent;\n",
              "      border-left-color: var(--fill-color);\n",
              "      border-top-color: var(--fill-color);\n",
              "    }\n",
              "    30% {\n",
              "      border-color: transparent;\n",
              "      border-left-color: var(--fill-color);\n",
              "      border-top-color: var(--fill-color);\n",
              "      border-right-color: var(--fill-color);\n",
              "    }\n",
              "    40% {\n",
              "      border-color: transparent;\n",
              "      border-right-color: var(--fill-color);\n",
              "      border-top-color: var(--fill-color);\n",
              "    }\n",
              "    60% {\n",
              "      border-color: transparent;\n",
              "      border-right-color: var(--fill-color);\n",
              "    }\n",
              "    80% {\n",
              "      border-color: transparent;\n",
              "      border-right-color: var(--fill-color);\n",
              "      border-bottom-color: var(--fill-color);\n",
              "    }\n",
              "    90% {\n",
              "      border-color: transparent;\n",
              "      border-bottom-color: var(--fill-color);\n",
              "    }\n",
              "  }\n",
              "</style>\n",
              "\n",
              "  <script>\n",
              "    async function quickchart(key) {\n",
              "      const quickchartButtonEl =\n",
              "        document.querySelector('#' + key + ' button');\n",
              "      quickchartButtonEl.disabled = true;  // To prevent multiple clicks.\n",
              "      quickchartButtonEl.classList.add('colab-df-spinner');\n",
              "      try {\n",
              "        const charts = await google.colab.kernel.invokeFunction(\n",
              "            'suggestCharts', [key], {});\n",
              "      } catch (error) {\n",
              "        console.error('Error during call to suggestCharts:', error);\n",
              "      }\n",
              "      quickchartButtonEl.classList.remove('colab-df-spinner');\n",
              "      quickchartButtonEl.classList.add('colab-df-quickchart-complete');\n",
              "    }\n",
              "    (() => {\n",
              "      let quickchartButtonEl =\n",
              "        document.querySelector('#df-3ee7ca66-ad5d-41a5-95f5-28772e75aad9 button');\n",
              "      quickchartButtonEl.style.display =\n",
              "        google.colab.kernel.accessAllowed ? 'block' : 'none';\n",
              "    })();\n",
              "  </script>\n",
              "</div>\n",
              "\n",
              "    </div>\n",
              "  </div>\n"
            ],
            "application/vnd.google.colaboratory.intrinsic+json": {
              "type": "dataframe",
              "variable_name": "samples",
              "summary": "{\n  \"name\": \"samples\",\n  \"rows\": 100000,\n  \"fields\": [\n    {\n      \"column\": \"Diff\",\n      \"properties\": {\n        \"dtype\": \"category\",\n        \"num_unique_values\": 2,\n        \"samples\": [\n          \"Easy\",\n          \"Hard\"\n        ],\n        \"semantic_type\": \"\",\n        \"description\": \"\"\n      }\n    },\n    {\n      \"column\": \"Grade\",\n      \"properties\": {\n        \"dtype\": \"category\",\n        \"num_unique_values\": 3,\n        \"samples\": [\n          \"C\",\n          \"A\"\n        ],\n        \"semantic_type\": \"\",\n        \"description\": \"\"\n      }\n    },\n    {\n      \"column\": \"Intel\",\n      \"properties\": {\n        \"dtype\": \"category\",\n        \"num_unique_values\": 2,\n        \"samples\": [\n          \"High\",\n          \"Low\"\n        ],\n        \"semantic_type\": \"\",\n        \"description\": \"\"\n      }\n    },\n    {\n      \"column\": \"Letter\",\n      \"properties\": {\n        \"dtype\": \"category\",\n        \"num_unique_values\": 2,\n        \"samples\": [\n          \"Good\",\n          \"Bad\"\n        ],\n        \"semantic_type\": \"\",\n        \"description\": \"\"\n      }\n    },\n    {\n      \"column\": \"SAT\",\n      \"properties\": {\n        \"dtype\": \"category\",\n        \"num_unique_values\": 2,\n        \"samples\": [\n          \"Good\",\n          \"Bad\"\n        ],\n        \"semantic_type\": \"\",\n        \"description\": \"\"\n      }\n    }\n  ]\n}"
            }
          },
          "metadata": {},
          "execution_count": 29
        }
      ]
    },
    {
      "cell_type": "markdown",
      "source": [
        "Similarly to before, we generate a model structure which contains the base graph. The goal is to learn the values of nodes and edges of this graph."
      ],
      "metadata": {
        "id": "vPizyLET2M0G"
      }
    },
    {
      "cell_type": "code",
      "source": [
        "model_struct = BayesianNetwork(ebunch=model.edges())\n",
        "model_struct.nodes()"
      ],
      "metadata": {
        "colab": {
          "base_uri": "https://localhost:8080/"
        },
        "id": "9O6XziZs2AP6",
        "outputId": "65fda3bc-355e-4ad5-9eef-5a2ce62ac3c2"
      },
      "execution_count": 30,
      "outputs": [
        {
          "output_type": "execute_result",
          "data": {
            "text/plain": [
              "NodeView(('Diff', 'Grade', 'Letter', 'Intel', 'SAT'))"
            ]
          },
          "metadata": {},
          "execution_count": 30
        }
      ]
    },
    {
      "cell_type": "markdown",
      "source": [
        "#### Learning the model parameters\n",
        "\n",
        "We can now begin learning the parameters of the model:"
      ],
      "metadata": {
        "id": "VeaPpbyK2Jp7"
      }
    },
    {
      "cell_type": "code",
      "source": [
        "# Fitting the model using Maximum Likelihood Estimator\n",
        "\n",
        "from pgmpy.estimators import MaximumLikelihoodEstimator\n",
        "\n",
        "mle = MaximumLikelihoodEstimator(model=model_struct, data=samples)\n",
        "\n",
        "# Estimating the CPD for a single node.\n",
        "print(mle.estimate_cpd(node=\"Diff\"))\n",
        "print(mle.estimate_cpd(node=\"Grade\"))\n",
        "\n",
        "# Estimating CPDs for all the nodes in the model\n",
        "mle.get_parameters()"
      ],
      "metadata": {
        "colab": {
          "base_uri": "https://localhost:8080/"
        },
        "id": "A4zMUe752Gw_",
        "outputId": "ebbc6340-0ccb-43c4-d8b3-6e0dff86fc75"
      },
      "execution_count": 31,
      "outputs": [
        {
          "output_type": "stream",
          "name": "stdout",
          "text": [
            "+------------+---------+\n",
            "| Diff(Easy) | 0.60303 |\n",
            "+------------+---------+\n",
            "| Diff(Hard) | 0.39697 |\n",
            "+------------+---------+\n",
            "+----------+---------------------+---------------------+---------------------+---------------------+\n",
            "| Diff     | Diff(Easy)          | Diff(Easy)          | Diff(Hard)          | Diff(Hard)          |\n",
            "+----------+---------------------+---------------------+---------------------+---------------------+\n",
            "| Intel    | Intel(High)         | Intel(Low)          | Intel(High)         | Intel(Low)          |\n",
            "+----------+---------------------+---------------------+---------------------+---------------------+\n",
            "| Grade(A) | 0.9040317687937786  | 0.30126624300483734 | 0.5045314708572379  | 0.05019877123238164 |\n",
            "+----------+---------------------+---------------------+---------------------+---------------------+\n",
            "| Grade(B) | 0.07578181015939552 | 0.39893768377122263 | 0.30207034173110503 | 0.2512468377303939  |\n",
            "+----------+---------------------+---------------------+---------------------+---------------------+\n",
            "| Grade(C) | 0.02018642104682588 | 0.29979607322394003 | 0.1933981874116571  | 0.6985543910372244  |\n",
            "+----------+---------------------+---------------------+---------------------+---------------------+\n"
          ]
        },
        {
          "output_type": "execute_result",
          "data": {
            "text/plain": [
              "[<TabularCPD representing P(Diff:2) at 0x7f0f771ea110>,\n",
              " <TabularCPD representing P(Grade:3 | Diff:2, Intel:2) at 0x7f0f77104610>,\n",
              " <TabularCPD representing P(Letter:2 | Grade:3) at 0x7f0f76d940d0>,\n",
              " <TabularCPD representing P(Intel:2) at 0x7f0f8aab3390>,\n",
              " <TabularCPD representing P(SAT:2 | Intel:2) at 0x7f0f76d2d310>]"
            ]
          },
          "metadata": {},
          "execution_count": 31
        }
      ]
    },
    {
      "cell_type": "code",
      "source": [
        "# Verifying that the learned parameters are almost equal.\n",
        "\n",
        "np.allclose(model.get_cpds(\"Diff\").values, mle.estimate_cpd(\"Diff\").values, atol=0.01)"
      ],
      "metadata": {
        "colab": {
          "base_uri": "https://localhost:8080/"
        },
        "id": "aWc0pesj2m8g",
        "outputId": "c8f7b8e4-731b-4e71-8858-0616cedfe6ff"
      },
      "execution_count": 32,
      "outputs": [
        {
          "output_type": "execute_result",
          "data": {
            "text/plain": [
              "True"
            ]
          },
          "metadata": {},
          "execution_count": 32
        }
      ]
    },
    {
      "cell_type": "markdown",
      "source": [
        "\n",
        "### **Bayesian Estimation**\n",
        "\n",
        "Bayesian Estimation estimates the parameters by updating prior distributions with observed data to obtain posterior distributions. This method provides a probabilistic view of the parameters, which includes uncertainty about their values. pgmpy also has a built in class to handle this:"
      ],
      "metadata": {
        "id": "GzqoQHnEcAkv"
      }
    },
    {
      "cell_type": "code",
      "source": [
        "# Fitting the using Bayesian Estimator\n",
        "\n",
        "from pgmpy.estimators import BayesianEstimator\n",
        "\n",
        "bayesian_model = BayesianEstimator(model=model_struct, data=samples)\n",
        "\n",
        "# Uniform pseudo count for each state. Can also accept an array of the size of CPD.\n",
        "print(bayesian_model.estimate_cpd(node=\"Diff\", prior_type=\"dirichlet\", pseudo_counts=100))\n"
      ],
      "metadata": {
        "colab": {
          "base_uri": "https://localhost:8080/"
        },
        "id": "nNe3Wg_55V9M",
        "outputId": "cf6d76e1-2873-4a35-c663-a344b6106042"
      },
      "execution_count": 33,
      "outputs": [
        {
          "output_type": "stream",
          "name": "stdout",
          "text": [
            "+------------+----------+\n",
            "| Diff(Easy) | 0.602824 |\n",
            "+------------+----------+\n",
            "| Diff(Hard) | 0.397176 |\n",
            "+------------+----------+\n"
          ]
        }
      ]
    },
    {
      "cell_type": "markdown",
      "source": [
        "# 3. Undirected PGM - Markov Net <a class=\"anchor\" id=\"3\"></a>\n",
        "The material in this chapter is based on:\n",
        "1. https://www.youtube.com/watch?v=rN7g4gzO2sk&list=PLcKyTzEkOa-gxU14ehctpaQdhE2GOFpeb\n",
        "2. https://github.com/probml/pyprobml/blob/master/notebooks/book2/04/gibbs_demo_ising.ipynb\n",
        "\n",
        "\n",
        "Undirected Probabilistic Graphical Models (PGMs), also known as Markov Networks or Markov Random Fields, are a class of models used to represent the joint distribution of a set of random variables without specifying direct causal relationships between them. Unlike directed PGMs, which use directed edges to denote causal dependencies, undirected PGMs use undirected edges to capture the dependencies and conditional independencies among the variables.\n",
        "\n",
        "## Key Properties of Undirected PGM's\n",
        "\n",
        "\n",
        "- **Undirected Graphs**: In undirected PGMs, edges do not have a direction. They simply indicate that the connected variables are dependent on each other.\n",
        "- **Clique**: A subset of variables in a Markov Network where every pair of variables is directly connected by an edge. The joint probability distribution can be expressed in terms of these cliques.\n",
        "- **Potential Functions**: Instead of conditional probability tables (CPTs), undirected PGMs use potential functions or factors to define the joint distribution over cliques. These functions capture how variables interact with each other.\n",
        "\n",
        "\n",
        "Consider a simple undirected graph with three variables: `A`, `B`, and `C`. The edges are undirected and connect each pair of variables, forming a complete graph. In this graph, `A` is connected to `B`, `B` is connected to `C`, and `A` is connected to `C`. This represents a fully connected system where each variable influences every other variable, but the exact nature of these influences is captured by potential functions.\n",
        "\n",
        "\n",
        "To visualize an undirected PGM, you can use libraries such as `networkx`. Here’s a brief example of how you might represent and visualize a simple undirected PGM using `networkx`:\n"
      ],
      "metadata": {
        "id": "ifcN8EI71nt9"
      }
    },
    {
      "cell_type": "code",
      "source": [
        "# Create an undirected graph\n",
        "G = nx.Graph()\n",
        "\n",
        "# Add nodes\n",
        "G.add_nodes_from(['A', 'B', 'C'])\n",
        "\n",
        "# Add edges\n",
        "G.add_edges_from([('A', 'B'), ('B', 'C'), ('A', 'C')])\n",
        "\n",
        "# Draw the graph\n",
        "pos = nx.spring_layout(G)\n",
        "nx.draw(G, pos, with_labels=True, node_color='lightblue', edge_color='gray', node_size=2000, font_size=15, font_weight='bold')\n",
        "plt.title('Undirected PGM: A Simple Complete Graph')\n",
        "plt.show()"
      ],
      "metadata": {
        "colab": {
          "base_uri": "https://localhost:8080/",
          "height": 539
        },
        "id": "9c4A0g9nfZw7",
        "outputId": "476fd892-1f14-48ca-a37c-226410767fe2"
      },
      "execution_count": 34,
      "outputs": [
        {
          "output_type": "display_data",
          "data": {
            "text/plain": [
              "<Figure size 640x480 with 1 Axes>"
            ],
            "image/png": "[encoded data removed]"
          },
          "metadata": {}
        }
      ]
    },
    {
      "cell_type": "markdown",
      "source": [
        "In undirected PGMs, the joint probability distribution over the variables is expressed as a product of potential functions over cliques. This representation allows for a flexible way of modeling dependencies without assuming a specific direction of influence. Inference in undirected PGMs often involves summing over variables to compute marginal distributions or using algorithms like Belief Propagation to perform approximate inference.\n",
        "\n",
        "To describe these concepts further, we will consider an Ising model."
      ],
      "metadata": {
        "id": "DtXODaRHffYu"
      }
    },
    {
      "cell_type": "markdown",
      "source": [
        "## Ising model"
      ],
      "metadata": {
        "id": "TGK-64pLUJc_"
      }
    },
    {
      "cell_type": "markdown",
      "source": [
        "The Ising Model is a type of undirected probabilistic graphical model used to study the behavior of magnetic materials. It consists of a grid of binary variables, each representing the spin of an electron (that can be either +1 (up) or -1 (down)). These spins interact with their neighbors, and the goal is to understand the collective behavior of the spins given certain interactions and external influences.\n",
        "\n",
        "\n",
        "### Key Concepts\n",
        "\n",
        "- **Binary Variables**: Each variable (or spin) in the Ising model can be in one of two states: +1 or -1.\n",
        "- **Neighbors**: Spins are arranged in a lattice, and each spin interacts with its neighboring spins. The interactions between neighboring spins are described by coupling constants.\n",
        "- **Potential Function**: The energy of a configuration in the Ising model is defined by a potential function that captures the interaction between neighboring spins.\n",
        "\n",
        "\n",
        "Let’s consider a simple 2D Ising model with a 4x4 grid. Each spin interacts with its nearest neighbors (left, right, top, bottom). Red represents a spin of +1 while blue represents a spin of -1."
      ],
      "metadata": {
        "id": "Hasd9z7kSsRc"
      }
    },
    {
      "cell_type": "code",
      "source": [
        "# Define the size of the grid\n",
        "size = 4\n",
        "\n",
        "# Create a grid graph to represent the Ising model\n",
        "G = nx.grid_2d_graph(size, size, periodic=False)\n",
        "\n",
        "# Define a random configuration of spins (+1 or -1)\n",
        "np.random.seed(0)\n",
        "spins = np.random.choice([-1, 1], size=(size, size))\n",
        "\n",
        "# Plot the grid and the spins\n",
        "pos = {(x, y): (y, -x) for x, y in G.nodes()}\n",
        "colors = ['red' if spins[x, y] == 1 else 'blue' for x, y in G.nodes()]\n",
        "\n",
        "plt.figure(figsize=(7, 7))\n",
        "nx.draw(G, pos, node_color=colors, with_labels=True, node_size=800, font_size=15, font_weight='bold')\n",
        "plt.title('2D Ising Model: Spin Configuration')\n",
        "plt.show()\n",
        "\n",
        "# Calculate the energy of the configuration\n",
        "def compute_energy(spins, J=1):\n",
        "    energy = 0\n",
        "    for (i, j) in G.edges():\n",
        "        energy -= J * spins[i] * spins[j]\n",
        "    return energy\n",
        "\n",
        "# Compute and print the energy of the configuration\n",
        "energy = compute_energy(spins)\n",
        "print(\"Energy of the configuration:\", energy)"
      ],
      "metadata": {
        "colab": {
          "base_uri": "https://localhost:8080/",
          "height": 776
        },
        "id": "jk-s13mAhKIW",
        "outputId": "119b4640-017c-4275-800c-f428cc085e88"
      },
      "execution_count": 35,
      "outputs": [
        {
          "output_type": "display_data",
          "data": {
            "text/plain": [
              "<Figure size 700x700 with 1 Axes>"
            ],
            "image/png": "[encoded data removed]"
          },
          "metadata": {}
        },
        {
          "output_type": "stream",
          "name": "stdout",
          "text": [
            "Energy of the configuration: -4\n"
          ]
        }
      ]
    },
    {
      "cell_type": "markdown",
      "source": [
        "### Scaling up\n",
        "We can now scale this up to a general case. In the Ising model, the probability of a given configuration of spins \\( X \\) is defined by the Boltzmann distribution. The probability is proportional to the exponential of the negative energy of the configuration, normalized by the partition function.\n",
        "\n",
        "Consider the 2d lattice $X \\in \\mathbb{R}^{N \\times M}$, where $x_{nm}$ is a random variable, taking values from $\\{-1, +1\\}$. The formula is:\n",
        "\n",
        "$$ P(X; J) = \\frac{1}{Z(J)} \\exp(-E(X; J)) $$\n",
        "\n",
        "\n",
        "Where:\n",
        "-  $P(X; J)$ is the probability of the spin configuration \\( X \\) given the coupling constant \\( J \\). In the study of the behavior of magnetic materials, the temperature affects the coupling stength \\( J \\). The lower temperature leads to more tightly coupled (larger J), and higher temperature means less tightly coupled (smaller J).\n",
        "-  $E(X; J)$ is the energy of the configuration \\( X \\), which is a function of the spins and their interactions.\n",
        "-  $Z(J)$ is the partition function, a normalization constant that ensures the probabilities sum to 1: $ Z(J) = \\sum_{X} \\exp(-E(X; J)) $"
      ],
      "metadata": {
        "id": "4H_FhVHFhcqu"
      }
    },
    {
      "cell_type": "markdown",
      "source": [
        "### Gibbs sampling for Inference:\n",
        "\n",
        "Gibbs Sampling is a Markov Chain Monte Carlo (MCMC) method used to approximate the distribution of a set of variables. In the context of the Ising model, Gibbs Sampling helps in approximating the posterior distribution of spins given the interactions and external fields.\n",
        "\n",
        "\n",
        "#### Steps for Gibbs Sampling\n",
        "\n",
        "1. **Initialization**: Start with an initial configuration of spins.\n",
        "2. **Sampling**: Update each spin sequentially based on the conditional distribution of that spin given the current values of its neighbors.\n",
        "3. **Iteration**: Repeat the sampling process for a large number of iterations to approximate the distribution.\n",
        "\n",
        "\n",
        "The gibbs formula is:\n",
        "\n",
        "$$p(x_{nm}=+1 \\mid X_{\\setminus nm}) = \\frac{p(x_{nm}=+1, X_{\\setminus nm})}{p(x_{nm}=+1, X_{\\setminus nm}) + p(x_{nm}=-1, X_{\\setminus nm})} = \\frac{1}{1 + \\exp[-e(x_{nm}=-1;J)+e(x_{nm}=+1; J)]} = \\frac{1}{1 + \\exp[2e(x_{nm}=+1;J)]}$$\n",
        "\n",
        "where we use notation $X_{\\setminus nm}$ to represent all variables in $X$ but $x_{nm}$. The notation $e(x_{nm}; J) = \\sum_{x^{\\prime} \\text{that are connected to node } x_{nm}} -J x^{\\prime}x_{nm}$.\n",
        "We also use the fact: $e(x_{nm}=+1; J) = - e(x_{nm}=-1; J).$"
      ],
      "metadata": {
        "id": "gkIWdUIWivbo"
      }
    },
    {
      "cell_type": "code",
      "source": [
        "# 3 options of initial configuration of spins.\n",
        "\n",
        "def positive_spin_field(N, M):\n",
        "    return np.ones((N, M))\n",
        "\n",
        "def negative_spin_field(N, M):\n",
        "    return -1 * np.ones((N, M))\n",
        "\n",
        "def random_spin_field(N, M):\n",
        "    return np.random.choice([-1, 1], size=(N, M))\n",
        "\n",
        "# You may write your own initial configuration..."
      ],
      "metadata": {
        "id": "_MTamkgZUbF-"
      },
      "execution_count": 36,
      "outputs": []
    },
    {
      "cell_type": "code",
      "source": [
        "from PIL import Image\n",
        "\n",
        "def display_spin_field(field):\n",
        "    return Image.fromarray(np.uint8((field + 1) / 2 * 255))\n",
        "\n",
        "display_spin_field(random_spin_field(200, 200))"
      ],
      "metadata": {
        "colab": {
          "base_uri": "https://localhost:8080/",
          "height": 217
        },
        "id": "ooPUKm8VecRh",
        "outputId": "d9b69e73-212c-4cc5-e058-458701ddb4be"
      },
      "execution_count": 37,
      "outputs": [
        {
          "output_type": "execute_result",
          "data": {
            "text/plain": [
              "<PIL.Image.Image image mode=L size=200x200>"
            ],
            "image/png": "[encoded data removed]",
            "image/jpeg": "[encoded data removed]"
          },
          "metadata": {},
          "execution_count": 37
        }
      ]
    },
    {
      "cell_type": "code",
      "source": [
        "def ising_step(field, J=0.4):\n",
        "    \"\"\"Perform Ising Update over entire lattice\"\"\"\n",
        "    N, M = field.shape\n",
        "    for n_offset in range(2):\n",
        "        for m_offset in range(2):\n",
        "             for n in range(n_offset, N, 2):\n",
        "                for m in range(m_offset, M, 2) :\n",
        "                    _ising_update(field, n, m, J)\n",
        "    return field\n",
        "\n",
        "def _energy(field, n, m, J):\n",
        "    \"\"\"\n",
        "    Calculate Energy of a single site (n, m) assuming x_nm = 1.\n",
        "    \"\"\"\n",
        "    total = 0\n",
        "    N, M = field.shape\n",
        "    # be careful of the boundary\n",
        "    for i in range(max(0, n - 1), min(N, n + 2)):\n",
        "        for j in range(max(0, m - 1), min(M, m + 2)):\n",
        "            if i == n and j == m:\n",
        "                continue\n",
        "            total += field[i, j]\n",
        "    total *= -J\n",
        "    return total\n",
        "\n",
        "def _ising_update(field, n, m, J):\n",
        "    \"\"\"\n",
        "    Perform Ising Update (Gibbs sampling) for a single site (n, m)\n",
        "    \"\"\"\n",
        "    if np.random.rand() < 1 / (1 + np.exp(2 * _energy(field, n, m, J))):\n",
        "        field[n, m] = 1\n",
        "    else:\n",
        "        field[n, m] = -1"
      ],
      "metadata": {
        "id": "LXsZV-enfIIZ"
      },
      "execution_count": 38,
      "outputs": []
    },
    {
      "cell_type": "markdown",
      "source": [
        "### Animate Sequence with ipywidgets"
      ],
      "metadata": {
        "id": "2dzseV9o0teO"
      }
    },
    {
      "cell_type": "code",
      "source": [
        "from ipywidgets import interact\n",
        "\n",
        "# animate the evolution of the Ising model\n",
        "def display_ising_sequence(images):\n",
        "    def _show(frame=(0, len(images) - 1)):\n",
        "        return display_spin_field(images[frame])\n",
        "\n",
        "    return interact(_show)"
      ],
      "metadata": {
        "id": "u-3Xb2Bxzlvu"
      },
      "execution_count": 39,
      "outputs": []
    },
    {
      "cell_type": "code",
      "source": [
        "np.random.seed(44)                     # Try different random seeds, e.g. 44, 46\n",
        "images = [positive_spin_field(30, 30)] # Try different initial configs, such as negative_spin_field, random_spin_field etc\n",
        "J0, T0, Tf = 10., 1., 100.             # J0: base coupling strength; TO: initial temperature; Tf: the highest temperature\n",
        "temp = [T0]\n",
        "num_iter = 1000                        # number of iterations to run\n",
        "\n",
        "# This loop will take some time, please be patient.\n",
        "for i in range(num_iter):\n",
        "\n",
        "    if i < num_iter / 2:\n",
        "        # during the first half of iters, as the temperature increase (smaller coupling strength),\n",
        "        # the distribution becomes more entropic, losing magnestism.\n",
        "        T = T0 + (Tf - T0) * (i + 1) / (num_iter / 2)\n",
        "\n",
        "    elif i >= num_iter / 2:\n",
        "        # after the first half of iters, the temperature start decreasing (larger coupling strength),\n",
        "        # the distribution becomes less entropic, recovering magnestism.\n",
        "        T = Tf - (Tf - T0) * (i + 1 - (num_iter / 2)) / (num_iter / 2)\n",
        "\n",
        "    J = J0 / T\n",
        "    images.append(ising_step(images[-1].copy(), J=J))\n",
        "    temp.append(T)\n",
        "\n",
        "display_ising_sequence(images)"
      ],
      "metadata": {
        "colab": {
          "base_uri": "https://localhost:8080/",
          "height": 165,
          "referenced_widgets": [
            "58b6941456cf45d4b8c43708f5ca8213",
            "cf74b3b849b2420c90404c6c3e045a81",
            "f4f32ee3bad1421fadedf527f8e1ee93",
            "3309157ddfe64913bc5ea0694a4993a5",
            "b1d75eef397f4b428c8a6c04394d1376",
            "513fafd82a84424b835678549534fa79",
            "137cbedea0ac48bbb574bcf28e712fd8"
          ]
        },
        "id": "mkeBwlGmzz7X",
        "outputId": "463c21c7-9689-4b37-9d3c-fce7b47c8fa1"
      },
      "execution_count": 40,
      "outputs": [
        {
          "output_type": "display_data",
          "data": {
            "text/plain": [
              "interactive(children=(IntSlider(value=500, description='frame', max=1000), Output()), _dom_classes=('widget-in…"
            ],
            "application/vnd.jupyter.widget-view+json": {
              "version_major": 2,
              "version_minor": 0,
              "model_id": "58b6941456cf45d4b8c43708f5ca8213"
            }
          },
          "metadata": {}
        },
        {
          "output_type": "execute_result",
          "data": {
            "text/plain": [
              "<function __main__.display_ising_sequence.<locals>._show(frame=(0, 1000))>"
            ],
            "text/html": [
              "<div style=\"max-width:800px; border: 1px solid var(--colab-border-color);\"><style>\n",
              "      pre.function-repr-contents {\n",
              "        overflow-x: auto;\n",
              "        padding: 8px 12px;\n",
              "        max-height: 500px;\n",
              "      }\n",
              "\n",
              "      pre.function-repr-contents.function-repr-contents-collapsed {\n",
              "        cursor: pointer;\n",
              "        max-height: 100px;\n",
              "      }\n",
              "    </style>\n",
              "    <pre style=\"white-space: initial; background:\n",
              "         var(--colab-secondary-surface-color); padding: 8px 12px;\n",
              "         border-bottom: 1px solid var(--colab-border-color);\"><b>display_ising_sequence.&lt;locals&gt;._show</b><br/>def _show(frame=(0, len(images) - 1))</pre><pre class=\"function-repr-contents function-repr-contents-collapsed\" style=\"\"><a class=\"filepath\" style=\"display:none\" href=\"#\">/content/&lt;ipython-input-39-48bb63e445a8&gt;</a>&lt;no docstring&gt;</pre></div>"
            ]
          },
          "metadata": {},
          "execution_count": 40
        }
      ]
    },
    {
      "cell_type": "code",
      "source": [
        "import matplotlib.pyplot as plt\n",
        "\n",
        "# Plot the evolution of the magnetization\n",
        "plt.subplot(1, 2, 1)\n",
        "plt.plot(range(len(images)), [images[i].mean() for i in range(len(images))])\n",
        "plt.xlabel('Iteration')\n",
        "plt.ylabel('Magnestism')\n",
        "\n",
        "plt.subplot(1, 2, 2)\n",
        "plt.plot(range(len(images)), temp)\n",
        "plt.xlabel('Iteration')\n",
        "plt.ylabel('Temperature')\n",
        "plt.tight_layout()\n",
        "plt.show()"
      ],
      "metadata": {
        "colab": {
          "base_uri": "https://localhost:8080/",
          "height": 487
        },
        "id": "TSME0x1vZNHa",
        "outputId": "31b52736-48dd-453a-8c01-6ba22a91d8dd"
      },
      "execution_count": 41,
      "outputs": [
        {
          "output_type": "display_data",
          "data": {
            "text/plain": [
              "<Figure size 640x480 with 2 Axes>"
            ],
            "image/png": "[encoded data removed]"
          },
          "metadata": {}
        }
      ]
    },
    {
      "cell_type": "markdown",
      "source": [
        "In the Ising model, the temperature T plays an important role. At low temperatures, thermal fluctuations are minimal, and the system tends to minimize its energy by aligning spins (strong coupling, large J), resulting in a net magnetization (ferromagnetic state). However, as the temperature increases, thermal energy can overcome the interaction energy between spins (weak coupling, small J), leading to more random spin orientations and a reduction in net magnetization.\n",
        "\n",
        "One may notice that there is a critical temperature in the above evolution ($T_c \\in $60~80), known as the Curie temperature in magnetic materials, is a pivotal point in the Ising model. Below $T_c$, the material exhibits spontaneous magnetization, where even without an external magnetic field, the spins tend to align, creating a magnetized state. Above $T_c$, the thermal agitation becomes dominant, and the system transitions to a paramagnetic state, where the spins are randomly oriented, and the net magnetization vanishes.\n",
        "\n",
        "When the temperature is decreased from a high value (above $T_c$) back down, the system might not immediately return to its original magnetized state. This lag is known as hysteresis. The material may retain some magnetization due to the history of its thermal evolution, demonstrating the irreversible nature of some processes in magnetic materials. Under certain conditions, the direction of magnetization can reverse during the cooling process (e.g. random seed=46)."
      ],
      "metadata": {
        "id": "XaqMm-NXv7mq"
      }
    },
    {
      "cell_type": "markdown",
      "source": [
        "##Image denoising with Ising model"
      ],
      "metadata": {
        "id": "0-i-ygHKUNRK"
      }
    },
    {
      "cell_type": "markdown",
      "source": [
        "In this section, we provide an toy application for image denoising with Ising model prior. Given an image, we treat image pixels as random variables, denoted as $X \\in \\mathbb{R}^{N \\times M}$. To capture the correlation between pixels, we put Ising model prior on $X$. The original image $X$ can sometime be corrputed in many senarios, such as during data transmission, resulting to a noisy image denoted as $Y$. Our goal here is to recover \"clean\" image $X$ given noisy observation $Y$, with the help of Ising model. This example is inspired by Kevin's book Section 4.3.9."
      ],
      "metadata": {
        "id": "GnUJOkz04VJW"
      }
    },
    {
      "cell_type": "code",
      "source": [
        "import pandas as pd\n",
        "\n",
        "img = pd.read_csv('https://raw.githubusercontent.com/probml/probml-data/main/data/letterA.csv').to_numpy()"
      ],
      "metadata": {
        "id": "ZaQJAQ4iJ8z4"
      },
      "execution_count": 42,
      "outputs": []
    },
    {
      "cell_type": "code",
      "source": [
        "mean = np.mean(img)\n",
        "img_clean = np.where(img > mean, 1, -1)\n",
        "\n",
        "display_spin_field(img_clean)"
      ],
      "metadata": {
        "colab": {
          "base_uri": "https://localhost:8080/",
          "height": 144
        },
        "id": "1jN6ubqAMa7j",
        "outputId": "c2fa2212-3fef-4cd8-dc96-03e99c41b269"
      },
      "execution_count": 43,
      "outputs": [
        {
          "output_type": "execute_result",
          "data": {
            "text/plain": [
              "<PIL.Image.Image image mode=L size=128x127>"
            ],
            "image/png": "[encoded data removed]",
            "image/jpeg": "[encoded data removed]"
          },
          "metadata": {},
          "execution_count": 43
        }
      ]
    },
    {
      "cell_type": "markdown",
      "source": [
        "We can artificially inject random noise to original clean image. The noise level is the standard deviation of the Gaussian noise."
      ],
      "metadata": {
        "id": "J1bV5hAE32TI"
      }
    },
    {
      "cell_type": "code",
      "source": [
        "noise_level = 0.01\n",
        "img_noisy = img_clean.astype('float') + np.random.randn(*img_clean.shape) * noise_level # try different noise level\n",
        "\n",
        "display_spin_field(img_noisy)"
      ],
      "metadata": {
        "colab": {
          "base_uri": "https://localhost:8080/",
          "height": 144
        },
        "id": "EYRgoynmepQV",
        "outputId": "13f1ded1-1778-40cf-9059-a0b1bdb516ab"
      },
      "execution_count": 44,
      "outputs": [
        {
          "output_type": "execute_result",
          "data": {
            "text/plain": [
              "<PIL.Image.Image image mode=L size=128x127>"
            ],
            "image/png": "[encoded data removed]",
            "image/jpeg": "[encoded data removed]"
          },
          "metadata": {},
          "execution_count": 44
        }
      ]
    },
    {
      "cell_type": "markdown",
      "source": [
        "As mentioned above, the prior $p(X)$ is modelled as a Ising model. We can freely determine the observation likelihood $p(Y \\mid X)$. The simplest choice is Gaussian likelihood: $p(Y \\mid X) = \\mathcal{N}(Y \\mid X, \\sigma^2I)$. Our denoising target can be achieved by optimizing log posterior $\\log p(X \\mid Y)$ w.r.t. $X$.\n",
        "\n",
        "$$X_{*} = \\arg \\max_{X} \\log p(X \\mid Y) \\propto \\arg \\max_{X} \\{-\\log Z(J) + J \\cdot \\sum_{i \\sim j} x_{i} x_{j} + \\sum_{n} \\sum_{m} \\log p(y_{nm} \\mid x_{nm})\\}$$\n",
        "\n",
        "where the $i \\sim j$ notation means edges in the Ising model."
      ],
      "metadata": {
        "id": "zwGn-ZHXU_J9"
      }
    },
    {
      "cell_type": "code",
      "source": [
        "def gaussian_log_likelihood(obs, mean, std=1.):\n",
        "    return -0.5 * np.log(2 * np.pi) - np.log(std) - (obs - mean) ** 2 / (2 * std ** 2)\n",
        "\n",
        "def laplace_log_likelihood(obs, mean, b=1.):\n",
        "    return -np.log(2 * b) - np.abs(obs - mean) / b\n",
        "\n",
        "# You may try some other log likelihood functions ..."
      ],
      "metadata": {
        "id": "0jpy3leFaThY"
      },
      "execution_count": 45,
      "outputs": []
    },
    {
      "cell_type": "code",
      "source": [
        "def denoising_step(noisy_img, field, log_obs_likelihood, J=0.4, num_iter=1):\n",
        "    \"\"\"\n",
        "    A heuristic approach for maximizing :math: '\\log p(X|Y)'.\n",
        "    \"\"\"\n",
        "    assert noisy_img.shape == field.shape\n",
        "    N, M = noisy_img.shape\n",
        "    for iter in range(num_iter):\n",
        "      for n in range(N):\n",
        "          for m in range(M):\n",
        "              _denoising_step(noisy_img[n, m], field, n, m, log_obs_likelihood, J)\n",
        "\n",
        "    return field\n",
        "\n",
        "def _denoising_step(noisy_value, field, n, m, log_obs_likelihood, J=0.4):\n",
        "    \"\"\"\n",
        "    Decide pixel value (-1 or +1) at a single location (n, m) by maximizing :math:'\\log p(X|Y)'\n",
        "    \"\"\"\n",
        "\n",
        "    energy_term = _energy(field, n, m, J)\n",
        "\n",
        "    # if x_nm = 1\n",
        "    v1 = - energy_term + log_obs_likelihood(noisy_value, 1)\n",
        "\n",
        "    # if x_nm = -1\n",
        "    v2 = energy_term + log_obs_likelihood(noisy_value, -1)\n",
        "\n",
        "    if v1 > v2:\n",
        "        field[n, m] = 1\n",
        "\n",
        "    else:\n",
        "        field[n, m] = -1\n"
      ],
      "metadata": {
        "id": "XLa0hej4QN25"
      },
      "execution_count": 46,
      "outputs": []
    },
    {
      "cell_type": "markdown",
      "source": [
        "We can now optimize $X$ with a random initialization."
      ],
      "metadata": {
        "id": "4tZEiA0O-G_G"
      }
    },
    {
      "cell_type": "code",
      "source": [
        "display_spin_field(denoising_step(noisy_img=img_noisy,\n",
        "                                  field=random_spin_field(*img.shape),\n",
        "                                  log_obs_likelihood=gaussian_log_likelihood,\n",
        "                                  J=0.4,\n",
        "                                  num_iter=1))                        # you may tune hyper-parameters in log_obs_likelihood function, J, and num_iter etc."
      ],
      "metadata": {
        "colab": {
          "base_uri": "https://localhost:8080/",
          "height": 144
        },
        "id": "4GJlxIJSYGcv",
        "outputId": "df9e4f8c-c864-4d85-e408-cc5271470d0b"
      },
      "execution_count": 47,
      "outputs": [
        {
          "output_type": "execute_result",
          "data": {
            "text/plain": [
              "<PIL.Image.Image image mode=L size=128x127>"
            ],
            "image/png": "[encoded data removed]",
            "image/jpeg": "[encoded data removed]"
          },
          "metadata": {},
          "execution_count": 47
        }
      ]
    },
    {
      "cell_type": "markdown",
      "source": [
        "Beside denoing image with injected Gaussian noise, you may explore other settings: such as upsampling an image ...\n",
        "\n",
        "Can you think up a setting where this model (completely) fails? Why?"
      ],
      "metadata": {
        "id": "k1WrkquzAUYR"
      }
    },
    {
      "cell_type": "markdown",
      "source": [
        "### Image upsampling"
      ],
      "metadata": {
        "id": "rfU4gYOE9gTn"
      }
    },
    {
      "cell_type": "code",
      "source": [
        "img_subsample = img_clean.astype('float')\n",
        "img_subsample[::2, ::2] = -1 # or 1\n",
        "\n",
        "display_spin_field(img_subsample)"
      ],
      "metadata": {
        "colab": {
          "base_uri": "https://localhost:8080/",
          "height": 144
        },
        "id": "hw7pXfBf-eda",
        "outputId": "73f95644-5f17-4c32-9f84-72b401ddc626"
      },
      "execution_count": 48,
      "outputs": [
        {
          "output_type": "execute_result",
          "data": {
            "text/plain": [
              "<PIL.Image.Image image mode=L size=128x127>"
            ],
            "image/png": "[encoded data removed]",
            "image/jpeg": "[encoded data removed]"
          },
          "metadata": {},
          "execution_count": 48
        }
      ]
    },
    {
      "cell_type": "code",
      "source": [
        "display_spin_field(denoising_step(noisy_img=img_subsample,\n",
        "                                  field=random_spin_field(*img.shape),\n",
        "                                  log_obs_likelihood=gaussian_log_likelihood,\n",
        "                                  J=0.4,\n",
        "                                  num_iter=5))"
      ],
      "metadata": {
        "colab": {
          "base_uri": "https://localhost:8080/",
          "height": 144
        },
        "id": "I_C5U2PY-3aC",
        "outputId": "aef97045-0019-48c5-dec0-4f78f35e1324"
      },
      "execution_count": 49,
      "outputs": [
        {
          "output_type": "execute_result",
          "data": {
            "text/plain": [
              "<PIL.Image.Image image mode=L size=128x127>"
            ],
            "image/png": "[encoded data removed]",
            "image/jpeg": "[encoded data removed]"
          },
          "metadata": {},
          "execution_count": 49
        }
      ]
    },
    {
      "cell_type": "markdown",
      "source": [
        "### One example setting where this model completely fails: image completion"
      ],
      "metadata": {
        "id": "0ltBgtKCA40l"
      }
    },
    {
      "cell_type": "code",
      "source": [
        "img_shelter = img_clean.astype('float')\n",
        "img_shelter[50:90, 50:90] = -1\n",
        "\n",
        "display_spin_field(img_shelter)"
      ],
      "metadata": {
        "colab": {
          "base_uri": "https://localhost:8080/",
          "height": 144
        },
        "id": "5Pq-uJTiBS4w",
        "outputId": "f3023ea4-5b04-43c0-8382-7a8da43e8c58"
      },
      "execution_count": 50,
      "outputs": [
        {
          "output_type": "execute_result",
          "data": {
            "text/plain": [
              "<PIL.Image.Image image mode=L size=128x127>"
            ],
            "image/png": "[encoded data removed]",
            "image/jpeg": "[encoded data removed]"
          },
          "metadata": {},
          "execution_count": 50
        }
      ]
    },
    {
      "cell_type": "code",
      "source": [
        "display_spin_field(denoising_step(noisy_img=img_shelter,\n",
        "                                  field=random_spin_field(*img.shape),\n",
        "                                  log_obs_likelihood=gaussian_log_likelihood,\n",
        "                                  J=0.4,\n",
        "                                  num_iter=5))"
      ],
      "metadata": {
        "colab": {
          "base_uri": "https://localhost:8080/",
          "height": 144
        },
        "id": "oao8KZM2BeVx",
        "outputId": "97f8a8ce-48cb-4024-e948-47de4f65c0d6"
      },
      "execution_count": 53,
      "outputs": [
        {
          "output_type": "execute_result",
          "data": {
            "text/plain": [
              "<PIL.Image.Image image mode=L size=128x127>"
            ],
            "image/png": "[encoded data removed]",
            "image/jpeg": "[encoded data removed]"
          },
          "metadata": {},
          "execution_count": 53
        }
      ]
    },
    {
      "cell_type": "markdown",
      "source": [
        "To elucidate the reasons behind our model's complete failure in image completion when confronted with block occlusion, it is essential to revisit the fundamental assumption of the Ising model. In the Ising model, each variable, taking on a value of either -1 or +1, is conditionally independent of all other variables, provided the values of its neighboring variables. Our model's effectiveness in image denoising is similarly rooted in its ability to exploit neighboring information, as aligned with the principles of the Ising model. However, in the context of image completion where an entire block of the image is missing, the model is unable to utilize nearby pixel information, ultimately leading to its failure in performing this task.\n",
        "\n",
        "\n",
        " Extra Exercise: For Ising model example, one may also consider putting an external magnetic field over the lattice, which leads to a new energy formulation. How to modify the above code to accomodate this change?"
      ],
      "metadata": {
        "id": "FyPzftvcDmbs"
      }
    },
    {
      "cell_type": "markdown",
      "source": [
        "hint: You may change the _energy part."
      ],
      "metadata": {
        "id": "nVc1orvQpjsK"
      }
    },
    {
      "cell_type": "code",
      "source": [],
      "metadata": {
        "id": "vLAheJ6OUolJ"
      },
      "execution_count": null,
      "outputs": []
    }
  ]
}